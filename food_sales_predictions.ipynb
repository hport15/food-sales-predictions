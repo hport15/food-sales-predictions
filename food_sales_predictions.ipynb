{
  "nbformat": 4,
  "nbformat_minor": 0,
  "metadata": {
    "colab": {
      "name": "food sales predictions.ipynb",
      "provenance": [],
      "toc_visible": true,
      "mount_file_id": "https://github.com/hport15/food-sales-predictions/blob/main/food_sales_predictions.ipynb",
      "authorship_tag": "ABX9TyMltYiCYqPqevuPPbrMJI6s",
      "include_colab_link": true
    },
    "kernelspec": {
      "name": "python3",
      "display_name": "Python 3"
    },
    "language_info": {
      "name": "python"
    }
  },
  "cells": [
    {
      "cell_type": "markdown",
      "metadata": {
        "id": "view-in-github",
        "colab_type": "text"
      },
      "source": [
        "<a href=\"https://colab.research.google.com/github/hport15/food-sales-predictions/blob/main/food_sales_predictions.ipynb\" target=\"_parent\"><img src=\"https://colab.research.google.com/assets/colab-badge.svg\" alt=\"Open In Colab\"/></a>"
      ]
    },
    {
      "cell_type": "markdown",
      "source": [
        "# Part 1"
      ],
      "metadata": {
        "id": "IYqrQ8mqFZJS"
      }
    },
    {
      "cell_type": "code",
      "execution_count": 1,
      "metadata": {
        "colab": {
          "base_uri": "https://localhost:8080/",
          "height": 353
        },
        "id": "JwS8IaQr6NFd",
        "outputId": "4d6e9bb2-e301-4078-a272-cb3eda40e9ca"
      },
      "outputs": [
        {
          "output_type": "execute_result",
          "data": {
            "text/plain": [
              "  Item_Identifier  Item_Weight Item_Fat_Content  Item_Visibility  \\\n",
              "0           FDA15         9.30          Low Fat         0.016047   \n",
              "1           DRC01         5.92          Regular         0.019278   \n",
              "2           FDN15        17.50          Low Fat         0.016760   \n",
              "3           FDX07        19.20          Regular         0.000000   \n",
              "4           NCD19         8.93          Low Fat         0.000000   \n",
              "\n",
              "               Item_Type  Item_MRP Outlet_Identifier  \\\n",
              "0                  Dairy  249.8092            OUT049   \n",
              "1            Soft Drinks   48.2692            OUT018   \n",
              "2                   Meat  141.6180            OUT049   \n",
              "3  Fruits and Vegetables  182.0950            OUT010   \n",
              "4              Household   53.8614            OUT013   \n",
              "\n",
              "   Outlet_Establishment_Year Outlet_Size Outlet_Location_Type  \\\n",
              "0                       1999      Medium               Tier 1   \n",
              "1                       2009      Medium               Tier 3   \n",
              "2                       1999      Medium               Tier 1   \n",
              "3                       1998         NaN               Tier 3   \n",
              "4                       1987        High               Tier 3   \n",
              "\n",
              "         Outlet_Type  Item_Outlet_Sales  \n",
              "0  Supermarket Type1          3735.1380  \n",
              "1  Supermarket Type2           443.4228  \n",
              "2  Supermarket Type1          2097.2700  \n",
              "3      Grocery Store           732.3800  \n",
              "4  Supermarket Type1           994.7052  "
            ],
            "text/html": [
              "\n",
              "  <div id=\"df-e3ac26ec-7675-4654-acaa-99928cd4735a\">\n",
              "    <div class=\"colab-df-container\">\n",
              "      <div>\n",
              "<style scoped>\n",
              "    .dataframe tbody tr th:only-of-type {\n",
              "        vertical-align: middle;\n",
              "    }\n",
              "\n",
              "    .dataframe tbody tr th {\n",
              "        vertical-align: top;\n",
              "    }\n",
              "\n",
              "    .dataframe thead th {\n",
              "        text-align: right;\n",
              "    }\n",
              "</style>\n",
              "<table border=\"1\" class=\"dataframe\">\n",
              "  <thead>\n",
              "    <tr style=\"text-align: right;\">\n",
              "      <th></th>\n",
              "      <th>Item_Identifier</th>\n",
              "      <th>Item_Weight</th>\n",
              "      <th>Item_Fat_Content</th>\n",
              "      <th>Item_Visibility</th>\n",
              "      <th>Item_Type</th>\n",
              "      <th>Item_MRP</th>\n",
              "      <th>Outlet_Identifier</th>\n",
              "      <th>Outlet_Establishment_Year</th>\n",
              "      <th>Outlet_Size</th>\n",
              "      <th>Outlet_Location_Type</th>\n",
              "      <th>Outlet_Type</th>\n",
              "      <th>Item_Outlet_Sales</th>\n",
              "    </tr>\n",
              "  </thead>\n",
              "  <tbody>\n",
              "    <tr>\n",
              "      <th>0</th>\n",
              "      <td>FDA15</td>\n",
              "      <td>9.30</td>\n",
              "      <td>Low Fat</td>\n",
              "      <td>0.016047</td>\n",
              "      <td>Dairy</td>\n",
              "      <td>249.8092</td>\n",
              "      <td>OUT049</td>\n",
              "      <td>1999</td>\n",
              "      <td>Medium</td>\n",
              "      <td>Tier 1</td>\n",
              "      <td>Supermarket Type1</td>\n",
              "      <td>3735.1380</td>\n",
              "    </tr>\n",
              "    <tr>\n",
              "      <th>1</th>\n",
              "      <td>DRC01</td>\n",
              "      <td>5.92</td>\n",
              "      <td>Regular</td>\n",
              "      <td>0.019278</td>\n",
              "      <td>Soft Drinks</td>\n",
              "      <td>48.2692</td>\n",
              "      <td>OUT018</td>\n",
              "      <td>2009</td>\n",
              "      <td>Medium</td>\n",
              "      <td>Tier 3</td>\n",
              "      <td>Supermarket Type2</td>\n",
              "      <td>443.4228</td>\n",
              "    </tr>\n",
              "    <tr>\n",
              "      <th>2</th>\n",
              "      <td>FDN15</td>\n",
              "      <td>17.50</td>\n",
              "      <td>Low Fat</td>\n",
              "      <td>0.016760</td>\n",
              "      <td>Meat</td>\n",
              "      <td>141.6180</td>\n",
              "      <td>OUT049</td>\n",
              "      <td>1999</td>\n",
              "      <td>Medium</td>\n",
              "      <td>Tier 1</td>\n",
              "      <td>Supermarket Type1</td>\n",
              "      <td>2097.2700</td>\n",
              "    </tr>\n",
              "    <tr>\n",
              "      <th>3</th>\n",
              "      <td>FDX07</td>\n",
              "      <td>19.20</td>\n",
              "      <td>Regular</td>\n",
              "      <td>0.000000</td>\n",
              "      <td>Fruits and Vegetables</td>\n",
              "      <td>182.0950</td>\n",
              "      <td>OUT010</td>\n",
              "      <td>1998</td>\n",
              "      <td>NaN</td>\n",
              "      <td>Tier 3</td>\n",
              "      <td>Grocery Store</td>\n",
              "      <td>732.3800</td>\n",
              "    </tr>\n",
              "    <tr>\n",
              "      <th>4</th>\n",
              "      <td>NCD19</td>\n",
              "      <td>8.93</td>\n",
              "      <td>Low Fat</td>\n",
              "      <td>0.000000</td>\n",
              "      <td>Household</td>\n",
              "      <td>53.8614</td>\n",
              "      <td>OUT013</td>\n",
              "      <td>1987</td>\n",
              "      <td>High</td>\n",
              "      <td>Tier 3</td>\n",
              "      <td>Supermarket Type1</td>\n",
              "      <td>994.7052</td>\n",
              "    </tr>\n",
              "  </tbody>\n",
              "</table>\n",
              "</div>\n",
              "      <button class=\"colab-df-convert\" onclick=\"convertToInteractive('df-e3ac26ec-7675-4654-acaa-99928cd4735a')\"\n",
              "              title=\"Convert this dataframe to an interactive table.\"\n",
              "              style=\"display:none;\">\n",
              "        \n",
              "  <svg xmlns=\"http://www.w3.org/2000/svg\" height=\"24px\"viewBox=\"0 0 24 24\"\n",
              "       width=\"24px\">\n",
              "    <path d=\"M0 0h24v24H0V0z\" fill=\"none\"/>\n",
              "    <path d=\"M18.56 5.44l.94 2.06.94-2.06 2.06-.94-2.06-.94-.94-2.06-.94 2.06-2.06.94zm-11 1L8.5 8.5l.94-2.06 2.06-.94-2.06-.94L8.5 2.5l-.94 2.06-2.06.94zm10 10l.94 2.06.94-2.06 2.06-.94-2.06-.94-.94-2.06-.94 2.06-2.06.94z\"/><path d=\"M17.41 7.96l-1.37-1.37c-.4-.4-.92-.59-1.43-.59-.52 0-1.04.2-1.43.59L10.3 9.45l-7.72 7.72c-.78.78-.78 2.05 0 2.83L4 21.41c.39.39.9.59 1.41.59.51 0 1.02-.2 1.41-.59l7.78-7.78 2.81-2.81c.8-.78.8-2.07 0-2.86zM5.41 20L4 18.59l7.72-7.72 1.47 1.35L5.41 20z\"/>\n",
              "  </svg>\n",
              "      </button>\n",
              "      \n",
              "  <style>\n",
              "    .colab-df-container {\n",
              "      display:flex;\n",
              "      flex-wrap:wrap;\n",
              "      gap: 12px;\n",
              "    }\n",
              "\n",
              "    .colab-df-convert {\n",
              "      background-color: #E8F0FE;\n",
              "      border: none;\n",
              "      border-radius: 50%;\n",
              "      cursor: pointer;\n",
              "      display: none;\n",
              "      fill: #1967D2;\n",
              "      height: 32px;\n",
              "      padding: 0 0 0 0;\n",
              "      width: 32px;\n",
              "    }\n",
              "\n",
              "    .colab-df-convert:hover {\n",
              "      background-color: #E2EBFA;\n",
              "      box-shadow: 0px 1px 2px rgba(60, 64, 67, 0.3), 0px 1px 3px 1px rgba(60, 64, 67, 0.15);\n",
              "      fill: #174EA6;\n",
              "    }\n",
              "\n",
              "    [theme=dark] .colab-df-convert {\n",
              "      background-color: #3B4455;\n",
              "      fill: #D2E3FC;\n",
              "    }\n",
              "\n",
              "    [theme=dark] .colab-df-convert:hover {\n",
              "      background-color: #434B5C;\n",
              "      box-shadow: 0px 1px 3px 1px rgba(0, 0, 0, 0.15);\n",
              "      filter: drop-shadow(0px 1px 2px rgba(0, 0, 0, 0.3));\n",
              "      fill: #FFFFFF;\n",
              "    }\n",
              "  </style>\n",
              "\n",
              "      <script>\n",
              "        const buttonEl =\n",
              "          document.querySelector('#df-e3ac26ec-7675-4654-acaa-99928cd4735a button.colab-df-convert');\n",
              "        buttonEl.style.display =\n",
              "          google.colab.kernel.accessAllowed ? 'block' : 'none';\n",
              "\n",
              "        async function convertToInteractive(key) {\n",
              "          const element = document.querySelector('#df-e3ac26ec-7675-4654-acaa-99928cd4735a');\n",
              "          const dataTable =\n",
              "            await google.colab.kernel.invokeFunction('convertToInteractive',\n",
              "                                                     [key], {});\n",
              "          if (!dataTable) return;\n",
              "\n",
              "          const docLinkHtml = 'Like what you see? Visit the ' +\n",
              "            '<a target=\"_blank\" href=https://colab.research.google.com/notebooks/data_table.ipynb>data table notebook</a>'\n",
              "            + ' to learn more about interactive tables.';\n",
              "          element.innerHTML = '';\n",
              "          dataTable['output_type'] = 'display_data';\n",
              "          await google.colab.output.renderOutput(dataTable, element);\n",
              "          const docLink = document.createElement('div');\n",
              "          docLink.innerHTML = docLinkHtml;\n",
              "          element.appendChild(docLink);\n",
              "        }\n",
              "      </script>\n",
              "    </div>\n",
              "  </div>\n",
              "  "
            ]
          },
          "metadata": {},
          "execution_count": 1
        }
      ],
      "source": [
        "import pandas as pd\n",
        "import random\n",
        "\n",
        "filename = '/content/sales_predictions.csv'\n",
        "df = pd.read_csv(filename)\n",
        "df.head()"
      ]
    },
    {
      "cell_type": "markdown",
      "source": [
        "# Part 2"
      ],
      "metadata": {
        "id": "CUW4wHBZ-3Zm"
      }
    },
    {
      "cell_type": "code",
      "source": [
        "# 1) How many rows and columns?\n",
        "df.shape\n",
        "\n",
        "# 8523 rows, 12 columns"
      ],
      "metadata": {
        "id": "QB2kKDHo7rZ-",
        "outputId": "898e199b-14b0-484d-bb40-2c99842dee2a",
        "colab": {
          "base_uri": "https://localhost:8080/"
        }
      },
      "execution_count": 2,
      "outputs": [
        {
          "output_type": "execute_result",
          "data": {
            "text/plain": [
              "(8523, 12)"
            ]
          },
          "metadata": {},
          "execution_count": 2
        }
      ]
    },
    {
      "cell_type": "code",
      "source": [
        "# 2) What are the datatypes of each variable?\n",
        "df.info()"
      ],
      "metadata": {
        "id": "-UqxlQdvY6XP",
        "outputId": "b10e1dfc-936e-4080-980e-bc7c68700325",
        "colab": {
          "base_uri": "https://localhost:8080/"
        }
      },
      "execution_count": 3,
      "outputs": [
        {
          "output_type": "stream",
          "name": "stdout",
          "text": [
            "<class 'pandas.core.frame.DataFrame'>\n",
            "RangeIndex: 8523 entries, 0 to 8522\n",
            "Data columns (total 12 columns):\n",
            " #   Column                     Non-Null Count  Dtype  \n",
            "---  ------                     --------------  -----  \n",
            " 0   Item_Identifier            8523 non-null   object \n",
            " 1   Item_Weight                7060 non-null   float64\n",
            " 2   Item_Fat_Content           8523 non-null   object \n",
            " 3   Item_Visibility            8523 non-null   float64\n",
            " 4   Item_Type                  8523 non-null   object \n",
            " 5   Item_MRP                   8523 non-null   float64\n",
            " 6   Outlet_Identifier          8523 non-null   object \n",
            " 7   Outlet_Establishment_Year  8523 non-null   int64  \n",
            " 8   Outlet_Size                6113 non-null   object \n",
            " 9   Outlet_Location_Type       8523 non-null   object \n",
            " 10  Outlet_Type                8523 non-null   object \n",
            " 11  Item_Outlet_Sales          8523 non-null   float64\n",
            "dtypes: float64(4), int64(1), object(7)\n",
            "memory usage: 799.2+ KB\n"
          ]
        }
      ]
    },
    {
      "cell_type": "code",
      "source": [
        "# 3) Are there duplicates? If so, drop any duplicates.\n",
        "df.duplicated().sum()\n",
        "\n",
        "# There are no duplicates."
      ],
      "metadata": {
        "id": "JgQl236saHq0",
        "outputId": "9fab769e-f838-470d-f30a-5478aff6d7ae",
        "colab": {
          "base_uri": "https://localhost:8080/"
        }
      },
      "execution_count": 4,
      "outputs": [
        {
          "output_type": "execute_result",
          "data": {
            "text/plain": [
              "0"
            ]
          },
          "metadata": {},
          "execution_count": 4
        }
      ]
    },
    {
      "cell_type": "code",
      "source": [
        "# 4) Identify missing values.\n",
        "df.isna().sum()"
      ],
      "metadata": {
        "id": "oOg1W8w6aND5",
        "outputId": "bb9709e8-32a4-4ea0-bca5-ce6f1a24e863",
        "colab": {
          "base_uri": "https://localhost:8080/"
        }
      },
      "execution_count": 5,
      "outputs": [
        {
          "output_type": "execute_result",
          "data": {
            "text/plain": [
              "Item_Identifier                 0\n",
              "Item_Weight                  1463\n",
              "Item_Fat_Content                0\n",
              "Item_Visibility                 0\n",
              "Item_Type                       0\n",
              "Item_MRP                        0\n",
              "Outlet_Identifier               0\n",
              "Outlet_Establishment_Year       0\n",
              "Outlet_Size                  2410\n",
              "Outlet_Location_Type            0\n",
              "Outlet_Type                     0\n",
              "Item_Outlet_Sales               0\n",
              "dtype: int64"
            ]
          },
          "metadata": {},
          "execution_count": 5
        }
      ]
    },
    {
      "cell_type": "code",
      "source": [
        "# 5) Decide on how to address the missing values and do it! (This requires your judgement, so explain your choice).\n",
        "\"\"\"\n",
        "I was able to determine that the missing values in the Outlet_Size column are only in the rows with Outlet_Type grocery store\n",
        "and supermarket type1. The 3 sizes are distributed about in a 2:1:1 ratio (S:H:M) for those 2 categories. I'm going to distribute those 3 values based\n",
        "on that ratio.\n",
        "\"\"\"\n",
        "df.groupby('Outlet_Type')['Outlet_Size'].value_counts()\n",
        "\n",
        "# UPDATE\n",
        "# In order to prevent data leakage for the ML part below, I will instead fill the missing values for Outlet_Size\n",
        "# with 'Missing' using the SimpleImputer and the mean using SimpleImputer for Item_Weight."
      ],
      "metadata": {
        "id": "o8aRak24aWOt",
        "outputId": "835a6765-2ad7-4215-c927-a57671d6e933",
        "colab": {
          "base_uri": "https://localhost:8080/"
        }
      },
      "execution_count": 6,
      "outputs": [
        {
          "output_type": "execute_result",
          "data": {
            "text/plain": [
              "Outlet_Type        Outlet_Size\n",
              "Grocery Store      Small           528\n",
              "Supermarket Type1  Small          1860\n",
              "                   High            932\n",
              "                   Medium          930\n",
              "Supermarket Type2  Medium          928\n",
              "Supermarket Type3  Medium          935\n",
              "Name: Outlet_Size, dtype: int64"
            ]
          },
          "metadata": {},
          "execution_count": 6
        }
      ]
    },
    {
      "cell_type": "code",
      "source": [
        "# 5) Decide on how to address the missing values and do it! (This requires your judgement, so explain your choice).\n",
        "\n",
        "# # I'm going to replace the missing Item_Weight values with the average weight since the other variables can't be used to deterine an item's weight.\n",
        "# print(df['Item_Weight'].mean())\n",
        "# df['Item_Weight'].fillna(12.86,inplace=True)\n",
        "# df.isna().sum()"
      ],
      "metadata": {
        "id": "9RaJjk41rNEI"
      },
      "execution_count": 7,
      "outputs": []
    },
    {
      "cell_type": "code",
      "source": [
        "\"\"\"\n",
        "I was able to determine that the missing values in the Outlet_Size column are only in the rows with Outlet_Type grocery store\n",
        "and supermarket type 1. The 3 sizes are distributed in about a 2:1:1 ratio (S:H:M) for those 2 categories. I'm going to distribute those 3 values based\n",
        "on that ratio.\n",
        "\"\"\"\n",
        "# missing = df['Outlet_Size'].isna()\n",
        "# length = sum(missing)\n",
        "# replacement = random.choices(['Small', 'Medium', 'High'], weights=[.5, .25, .25], k=length)\n",
        "# df.loc[missing,'Outlet_Size'] = replacement\n",
        "# df.isna().sum()"
      ],
      "metadata": {
        "id": "N_QNpD0vrxjq",
        "outputId": "294892f9-7bf6-4f64-acd7-190be3265893",
        "colab": {
          "base_uri": "https://localhost:8080/",
          "height": 71
        }
      },
      "execution_count": 8,
      "outputs": [
        {
          "output_type": "execute_result",
          "data": {
            "text/plain": [
              "\"\\nI was able to determine that the missing values in the Outlet_Size column are only in the rows with Outlet_Type grocery store\\nand supermarket type 1. The 3 sizes are distributed in about a 2:1:1 ratio (S:H:M) for those 2 categories. I'm going to distribute those 3 values based\\non that ratio.\\n\""
            ],
            "application/vnd.google.colaboratory.intrinsic+json": {
              "type": "string"
            }
          },
          "metadata": {},
          "execution_count": 8
        }
      ]
    },
    {
      "cell_type": "code",
      "source": [
        "# df.groupby('Outlet_Type')['Outlet_Size'].value_counts()"
      ],
      "metadata": {
        "id": "6mtNA5e8JiL7"
      },
      "execution_count": 9,
      "outputs": []
    },
    {
      "cell_type": "code",
      "source": [
        "# # For Supermarket Type2, there aren't any missing outlet_size values.\n",
        "# t2 = df['Outlet_Type']=='Supermarket Type2'\n",
        "# df2 = df[t2]\n",
        "# df2.isnull().sum()\n"
      ],
      "metadata": {
        "id": "1Mv6o43kfPrM"
      },
      "execution_count": 10,
      "outputs": []
    },
    {
      "cell_type": "code",
      "source": [
        "# # For Supermarket Type3, there aren't any missing outlet_size values.\n",
        "# t3 = df['Outlet_Type']=='Supermarket Type3'\n",
        "# df3 = df[t3]\n",
        "# df3.isnull().sum()\n",
        "# # df3['Outlet_Type'].value_counts()"
      ],
      "metadata": {
        "id": "mwSHewjmgU4E"
      },
      "execution_count": 11,
      "outputs": []
    },
    {
      "cell_type": "code",
      "source": [
        "# 6) Confirm that there are no missing values after addressing them.\n",
        "df.isnull().sum()"
      ],
      "metadata": {
        "id": "xpKtnV_ajaHA",
        "outputId": "04933b64-0ecc-448e-bd95-9e229f544f04",
        "colab": {
          "base_uri": "https://localhost:8080/"
        }
      },
      "execution_count": 12,
      "outputs": [
        {
          "output_type": "execute_result",
          "data": {
            "text/plain": [
              "Item_Identifier                 0\n",
              "Item_Weight                  1463\n",
              "Item_Fat_Content                0\n",
              "Item_Visibility                 0\n",
              "Item_Type                       0\n",
              "Item_MRP                        0\n",
              "Outlet_Identifier               0\n",
              "Outlet_Establishment_Year       0\n",
              "Outlet_Size                  2410\n",
              "Outlet_Location_Type            0\n",
              "Outlet_Type                     0\n",
              "Item_Outlet_Sales               0\n",
              "dtype: int64"
            ]
          },
          "metadata": {},
          "execution_count": 12
        }
      ]
    },
    {
      "cell_type": "code",
      "source": [
        "# 7) Find and fix any inconsistent categories of data (example: fix cat, Cat, and cats so that they are consistent) \n",
        "data_types = df.dtypes\n",
        "data_types\n",
        "str_cols = data_types[data_types==\"object\"]\n",
        "str_cols"
      ],
      "metadata": {
        "id": "uC3a9Rj7uREz",
        "outputId": "28bb1b0e-fa04-47ee-ca6b-3dfb77744c65",
        "colab": {
          "base_uri": "https://localhost:8080/"
        }
      },
      "execution_count": 13,
      "outputs": [
        {
          "output_type": "execute_result",
          "data": {
            "text/plain": [
              "Item_Identifier         object\n",
              "Item_Fat_Content        object\n",
              "Item_Type               object\n",
              "Outlet_Identifier       object\n",
              "Outlet_Size             object\n",
              "Outlet_Location_Type    object\n",
              "Outlet_Type             object\n",
              "dtype: object"
            ]
          },
          "metadata": {},
          "execution_count": 13
        }
      ]
    },
    {
      "cell_type": "code",
      "source": [
        "str_cols.index"
      ],
      "metadata": {
        "id": "m_MedeIpuZgj",
        "outputId": "d912a134-279a-419e-a6d9-343e6bc58522",
        "colab": {
          "base_uri": "https://localhost:8080/"
        }
      },
      "execution_count": 14,
      "outputs": [
        {
          "output_type": "execute_result",
          "data": {
            "text/plain": [
              "Index(['Item_Identifier', 'Item_Fat_Content', 'Item_Type', 'Outlet_Identifier',\n",
              "       'Outlet_Size', 'Outlet_Location_Type', 'Outlet_Type'],\n",
              "      dtype='object')"
            ]
          },
          "metadata": {},
          "execution_count": 14
        }
      ]
    },
    {
      "cell_type": "code",
      "source": [
        "df[str_cols.index]"
      ],
      "metadata": {
        "id": "8eLZfnnVwepL",
        "outputId": "b2981084-d409-47ca-80ff-5ec2e30f2f22",
        "colab": {
          "base_uri": "https://localhost:8080/",
          "height": 463
        }
      },
      "execution_count": 15,
      "outputs": [
        {
          "output_type": "execute_result",
          "data": {
            "text/plain": [
              "     Item_Identifier Item_Fat_Content              Item_Type  \\\n",
              "0              FDA15          Low Fat                  Dairy   \n",
              "1              DRC01          Regular            Soft Drinks   \n",
              "2              FDN15          Low Fat                   Meat   \n",
              "3              FDX07          Regular  Fruits and Vegetables   \n",
              "4              NCD19          Low Fat              Household   \n",
              "...              ...              ...                    ...   \n",
              "8518           FDF22          Low Fat            Snack Foods   \n",
              "8519           FDS36          Regular           Baking Goods   \n",
              "8520           NCJ29          Low Fat     Health and Hygiene   \n",
              "8521           FDN46          Regular            Snack Foods   \n",
              "8522           DRG01          Low Fat            Soft Drinks   \n",
              "\n",
              "     Outlet_Identifier Outlet_Size Outlet_Location_Type        Outlet_Type  \n",
              "0               OUT049      Medium               Tier 1  Supermarket Type1  \n",
              "1               OUT018      Medium               Tier 3  Supermarket Type2  \n",
              "2               OUT049      Medium               Tier 1  Supermarket Type1  \n",
              "3               OUT010         NaN               Tier 3      Grocery Store  \n",
              "4               OUT013        High               Tier 3  Supermarket Type1  \n",
              "...                ...         ...                  ...                ...  \n",
              "8518            OUT013        High               Tier 3  Supermarket Type1  \n",
              "8519            OUT045         NaN               Tier 2  Supermarket Type1  \n",
              "8520            OUT035       Small               Tier 2  Supermarket Type1  \n",
              "8521            OUT018      Medium               Tier 3  Supermarket Type2  \n",
              "8522            OUT046       Small               Tier 1  Supermarket Type1  \n",
              "\n",
              "[8523 rows x 7 columns]"
            ],
            "text/html": [
              "\n",
              "  <div id=\"df-8969410b-e1fd-4c2c-9591-0a251984639c\">\n",
              "    <div class=\"colab-df-container\">\n",
              "      <div>\n",
              "<style scoped>\n",
              "    .dataframe tbody tr th:only-of-type {\n",
              "        vertical-align: middle;\n",
              "    }\n",
              "\n",
              "    .dataframe tbody tr th {\n",
              "        vertical-align: top;\n",
              "    }\n",
              "\n",
              "    .dataframe thead th {\n",
              "        text-align: right;\n",
              "    }\n",
              "</style>\n",
              "<table border=\"1\" class=\"dataframe\">\n",
              "  <thead>\n",
              "    <tr style=\"text-align: right;\">\n",
              "      <th></th>\n",
              "      <th>Item_Identifier</th>\n",
              "      <th>Item_Fat_Content</th>\n",
              "      <th>Item_Type</th>\n",
              "      <th>Outlet_Identifier</th>\n",
              "      <th>Outlet_Size</th>\n",
              "      <th>Outlet_Location_Type</th>\n",
              "      <th>Outlet_Type</th>\n",
              "    </tr>\n",
              "  </thead>\n",
              "  <tbody>\n",
              "    <tr>\n",
              "      <th>0</th>\n",
              "      <td>FDA15</td>\n",
              "      <td>Low Fat</td>\n",
              "      <td>Dairy</td>\n",
              "      <td>OUT049</td>\n",
              "      <td>Medium</td>\n",
              "      <td>Tier 1</td>\n",
              "      <td>Supermarket Type1</td>\n",
              "    </tr>\n",
              "    <tr>\n",
              "      <th>1</th>\n",
              "      <td>DRC01</td>\n",
              "      <td>Regular</td>\n",
              "      <td>Soft Drinks</td>\n",
              "      <td>OUT018</td>\n",
              "      <td>Medium</td>\n",
              "      <td>Tier 3</td>\n",
              "      <td>Supermarket Type2</td>\n",
              "    </tr>\n",
              "    <tr>\n",
              "      <th>2</th>\n",
              "      <td>FDN15</td>\n",
              "      <td>Low Fat</td>\n",
              "      <td>Meat</td>\n",
              "      <td>OUT049</td>\n",
              "      <td>Medium</td>\n",
              "      <td>Tier 1</td>\n",
              "      <td>Supermarket Type1</td>\n",
              "    </tr>\n",
              "    <tr>\n",
              "      <th>3</th>\n",
              "      <td>FDX07</td>\n",
              "      <td>Regular</td>\n",
              "      <td>Fruits and Vegetables</td>\n",
              "      <td>OUT010</td>\n",
              "      <td>NaN</td>\n",
              "      <td>Tier 3</td>\n",
              "      <td>Grocery Store</td>\n",
              "    </tr>\n",
              "    <tr>\n",
              "      <th>4</th>\n",
              "      <td>NCD19</td>\n",
              "      <td>Low Fat</td>\n",
              "      <td>Household</td>\n",
              "      <td>OUT013</td>\n",
              "      <td>High</td>\n",
              "      <td>Tier 3</td>\n",
              "      <td>Supermarket Type1</td>\n",
              "    </tr>\n",
              "    <tr>\n",
              "      <th>...</th>\n",
              "      <td>...</td>\n",
              "      <td>...</td>\n",
              "      <td>...</td>\n",
              "      <td>...</td>\n",
              "      <td>...</td>\n",
              "      <td>...</td>\n",
              "      <td>...</td>\n",
              "    </tr>\n",
              "    <tr>\n",
              "      <th>8518</th>\n",
              "      <td>FDF22</td>\n",
              "      <td>Low Fat</td>\n",
              "      <td>Snack Foods</td>\n",
              "      <td>OUT013</td>\n",
              "      <td>High</td>\n",
              "      <td>Tier 3</td>\n",
              "      <td>Supermarket Type1</td>\n",
              "    </tr>\n",
              "    <tr>\n",
              "      <th>8519</th>\n",
              "      <td>FDS36</td>\n",
              "      <td>Regular</td>\n",
              "      <td>Baking Goods</td>\n",
              "      <td>OUT045</td>\n",
              "      <td>NaN</td>\n",
              "      <td>Tier 2</td>\n",
              "      <td>Supermarket Type1</td>\n",
              "    </tr>\n",
              "    <tr>\n",
              "      <th>8520</th>\n",
              "      <td>NCJ29</td>\n",
              "      <td>Low Fat</td>\n",
              "      <td>Health and Hygiene</td>\n",
              "      <td>OUT035</td>\n",
              "      <td>Small</td>\n",
              "      <td>Tier 2</td>\n",
              "      <td>Supermarket Type1</td>\n",
              "    </tr>\n",
              "    <tr>\n",
              "      <th>8521</th>\n",
              "      <td>FDN46</td>\n",
              "      <td>Regular</td>\n",
              "      <td>Snack Foods</td>\n",
              "      <td>OUT018</td>\n",
              "      <td>Medium</td>\n",
              "      <td>Tier 3</td>\n",
              "      <td>Supermarket Type2</td>\n",
              "    </tr>\n",
              "    <tr>\n",
              "      <th>8522</th>\n",
              "      <td>DRG01</td>\n",
              "      <td>Low Fat</td>\n",
              "      <td>Soft Drinks</td>\n",
              "      <td>OUT046</td>\n",
              "      <td>Small</td>\n",
              "      <td>Tier 1</td>\n",
              "      <td>Supermarket Type1</td>\n",
              "    </tr>\n",
              "  </tbody>\n",
              "</table>\n",
              "<p>8523 rows × 7 columns</p>\n",
              "</div>\n",
              "      <button class=\"colab-df-convert\" onclick=\"convertToInteractive('df-8969410b-e1fd-4c2c-9591-0a251984639c')\"\n",
              "              title=\"Convert this dataframe to an interactive table.\"\n",
              "              style=\"display:none;\">\n",
              "        \n",
              "  <svg xmlns=\"http://www.w3.org/2000/svg\" height=\"24px\"viewBox=\"0 0 24 24\"\n",
              "       width=\"24px\">\n",
              "    <path d=\"M0 0h24v24H0V0z\" fill=\"none\"/>\n",
              "    <path d=\"M18.56 5.44l.94 2.06.94-2.06 2.06-.94-2.06-.94-.94-2.06-.94 2.06-2.06.94zm-11 1L8.5 8.5l.94-2.06 2.06-.94-2.06-.94L8.5 2.5l-.94 2.06-2.06.94zm10 10l.94 2.06.94-2.06 2.06-.94-2.06-.94-.94-2.06-.94 2.06-2.06.94z\"/><path d=\"M17.41 7.96l-1.37-1.37c-.4-.4-.92-.59-1.43-.59-.52 0-1.04.2-1.43.59L10.3 9.45l-7.72 7.72c-.78.78-.78 2.05 0 2.83L4 21.41c.39.39.9.59 1.41.59.51 0 1.02-.2 1.41-.59l7.78-7.78 2.81-2.81c.8-.78.8-2.07 0-2.86zM5.41 20L4 18.59l7.72-7.72 1.47 1.35L5.41 20z\"/>\n",
              "  </svg>\n",
              "      </button>\n",
              "      \n",
              "  <style>\n",
              "    .colab-df-container {\n",
              "      display:flex;\n",
              "      flex-wrap:wrap;\n",
              "      gap: 12px;\n",
              "    }\n",
              "\n",
              "    .colab-df-convert {\n",
              "      background-color: #E8F0FE;\n",
              "      border: none;\n",
              "      border-radius: 50%;\n",
              "      cursor: pointer;\n",
              "      display: none;\n",
              "      fill: #1967D2;\n",
              "      height: 32px;\n",
              "      padding: 0 0 0 0;\n",
              "      width: 32px;\n",
              "    }\n",
              "\n",
              "    .colab-df-convert:hover {\n",
              "      background-color: #E2EBFA;\n",
              "      box-shadow: 0px 1px 2px rgba(60, 64, 67, 0.3), 0px 1px 3px 1px rgba(60, 64, 67, 0.15);\n",
              "      fill: #174EA6;\n",
              "    }\n",
              "\n",
              "    [theme=dark] .colab-df-convert {\n",
              "      background-color: #3B4455;\n",
              "      fill: #D2E3FC;\n",
              "    }\n",
              "\n",
              "    [theme=dark] .colab-df-convert:hover {\n",
              "      background-color: #434B5C;\n",
              "      box-shadow: 0px 1px 3px 1px rgba(0, 0, 0, 0.15);\n",
              "      filter: drop-shadow(0px 1px 2px rgba(0, 0, 0, 0.3));\n",
              "      fill: #FFFFFF;\n",
              "    }\n",
              "  </style>\n",
              "\n",
              "      <script>\n",
              "        const buttonEl =\n",
              "          document.querySelector('#df-8969410b-e1fd-4c2c-9591-0a251984639c button.colab-df-convert');\n",
              "        buttonEl.style.display =\n",
              "          google.colab.kernel.accessAllowed ? 'block' : 'none';\n",
              "\n",
              "        async function convertToInteractive(key) {\n",
              "          const element = document.querySelector('#df-8969410b-e1fd-4c2c-9591-0a251984639c');\n",
              "          const dataTable =\n",
              "            await google.colab.kernel.invokeFunction('convertToInteractive',\n",
              "                                                     [key], {});\n",
              "          if (!dataTable) return;\n",
              "\n",
              "          const docLinkHtml = 'Like what you see? Visit the ' +\n",
              "            '<a target=\"_blank\" href=https://colab.research.google.com/notebooks/data_table.ipynb>data table notebook</a>'\n",
              "            + ' to learn more about interactive tables.';\n",
              "          element.innerHTML = '';\n",
              "          dataTable['output_type'] = 'display_data';\n",
              "          await google.colab.output.renderOutput(dataTable, element);\n",
              "          const docLink = document.createElement('div');\n",
              "          docLink.innerHTML = docLinkHtml;\n",
              "          element.appendChild(docLink);\n",
              "        }\n",
              "      </script>\n",
              "    </div>\n",
              "  </div>\n",
              "  "
            ]
          },
          "metadata": {},
          "execution_count": 15
        }
      ]
    },
    {
      "cell_type": "code",
      "source": [
        "str_cols = str_cols.index"
      ],
      "metadata": {
        "id": "CjCKHxKkwlk2"
      },
      "execution_count": 16,
      "outputs": []
    },
    {
      "cell_type": "code",
      "source": [
        "for col in str_cols:\n",
        "  print(f\"{col}:\")\n",
        "  print(df[col].value_counts())\n",
        "  print(\"\\n\\n\")\n"
      ],
      "metadata": {
        "id": "O2PSahLbvrDg",
        "outputId": "5e99c399-69d4-4043-b57d-02765e748f9c",
        "colab": {
          "base_uri": "https://localhost:8080/"
        }
      },
      "execution_count": 17,
      "outputs": [
        {
          "output_type": "stream",
          "name": "stdout",
          "text": [
            "Item_Identifier:\n",
            "FDW13    10\n",
            "FDG33    10\n",
            "NCY18     9\n",
            "FDD38     9\n",
            "DRE49     9\n",
            "         ..\n",
            "FDY43     1\n",
            "FDQ60     1\n",
            "FDO33     1\n",
            "DRF48     1\n",
            "FDC23     1\n",
            "Name: Item_Identifier, Length: 1559, dtype: int64\n",
            "\n",
            "\n",
            "\n",
            "Item_Fat_Content:\n",
            "Low Fat    5089\n",
            "Regular    2889\n",
            "LF          316\n",
            "reg         117\n",
            "low fat     112\n",
            "Name: Item_Fat_Content, dtype: int64\n",
            "\n",
            "\n",
            "\n",
            "Item_Type:\n",
            "Fruits and Vegetables    1232\n",
            "Snack Foods              1200\n",
            "Household                 910\n",
            "Frozen Foods              856\n",
            "Dairy                     682\n",
            "Canned                    649\n",
            "Baking Goods              648\n",
            "Health and Hygiene        520\n",
            "Soft Drinks               445\n",
            "Meat                      425\n",
            "Breads                    251\n",
            "Hard Drinks               214\n",
            "Others                    169\n",
            "Starchy Foods             148\n",
            "Breakfast                 110\n",
            "Seafood                    64\n",
            "Name: Item_Type, dtype: int64\n",
            "\n",
            "\n",
            "\n",
            "Outlet_Identifier:\n",
            "OUT027    935\n",
            "OUT013    932\n",
            "OUT049    930\n",
            "OUT046    930\n",
            "OUT035    930\n",
            "OUT045    929\n",
            "OUT018    928\n",
            "OUT017    926\n",
            "OUT010    555\n",
            "OUT019    528\n",
            "Name: Outlet_Identifier, dtype: int64\n",
            "\n",
            "\n",
            "\n",
            "Outlet_Size:\n",
            "Medium    2793\n",
            "Small     2388\n",
            "High       932\n",
            "Name: Outlet_Size, dtype: int64\n",
            "\n",
            "\n",
            "\n",
            "Outlet_Location_Type:\n",
            "Tier 3    3350\n",
            "Tier 2    2785\n",
            "Tier 1    2388\n",
            "Name: Outlet_Location_Type, dtype: int64\n",
            "\n",
            "\n",
            "\n",
            "Outlet_Type:\n",
            "Supermarket Type1    5577\n",
            "Grocery Store        1083\n",
            "Supermarket Type3     935\n",
            "Supermarket Type2     928\n",
            "Name: Outlet_Type, dtype: int64\n",
            "\n",
            "\n",
            "\n"
          ]
        }
      ]
    },
    {
      "cell_type": "code",
      "source": [
        "# Need to fix low fat & regular categories in Item_Fat_Content column\n",
        "\n",
        "df['Item_Fat_Content'] = df['Item_Fat_Content'].str.replace('LF',\"Low Fat\")\n",
        "df['Item_Fat_Content'] = df['Item_Fat_Content'].str.replace('low fat',\"Low Fat\")\n",
        "df['Item_Fat_Content'] = df['Item_Fat_Content'].str.replace('reg',\"Regular\")\n",
        "df['Item_Fat_Content'].value_counts()"
      ],
      "metadata": {
        "id": "SpxT81UuvzMm",
        "outputId": "14236946-b9c5-484f-c5ab-29f462205275",
        "colab": {
          "base_uri": "https://localhost:8080/"
        }
      },
      "execution_count": 18,
      "outputs": [
        {
          "output_type": "execute_result",
          "data": {
            "text/plain": [
              "Low Fat    5517\n",
              "Regular    3006\n",
              "Name: Item_Fat_Content, dtype: int64"
            ]
          },
          "metadata": {},
          "execution_count": 18
        }
      ]
    },
    {
      "cell_type": "code",
      "source": [
        "# 8) For any numerical columns, obtain the summary statistics of each (min, max, mean)\n",
        "df.describe()"
      ],
      "metadata": {
        "id": "PvlzFC1NxXJ9",
        "outputId": "7a861733-ea95-46ec-91c7-2ee8030e5522",
        "colab": {
          "base_uri": "https://localhost:8080/",
          "height": 297
        }
      },
      "execution_count": 19,
      "outputs": [
        {
          "output_type": "execute_result",
          "data": {
            "text/plain": [
              "       Item_Weight  Item_Visibility     Item_MRP  Outlet_Establishment_Year  \\\n",
              "count  7060.000000      8523.000000  8523.000000                8523.000000   \n",
              "mean     12.857645         0.066132   140.992782                1997.831867   \n",
              "std       4.643456         0.051598    62.275067                   8.371760   \n",
              "min       4.555000         0.000000    31.290000                1985.000000   \n",
              "25%       8.773750         0.026989    93.826500                1987.000000   \n",
              "50%      12.600000         0.053931   143.012800                1999.000000   \n",
              "75%      16.850000         0.094585   185.643700                2004.000000   \n",
              "max      21.350000         0.328391   266.888400                2009.000000   \n",
              "\n",
              "       Item_Outlet_Sales  \n",
              "count        8523.000000  \n",
              "mean         2181.288914  \n",
              "std          1706.499616  \n",
              "min            33.290000  \n",
              "25%           834.247400  \n",
              "50%          1794.331000  \n",
              "75%          3101.296400  \n",
              "max         13086.964800  "
            ],
            "text/html": [
              "\n",
              "  <div id=\"df-6dafd502-9a44-4656-98de-b25140e67a2b\">\n",
              "    <div class=\"colab-df-container\">\n",
              "      <div>\n",
              "<style scoped>\n",
              "    .dataframe tbody tr th:only-of-type {\n",
              "        vertical-align: middle;\n",
              "    }\n",
              "\n",
              "    .dataframe tbody tr th {\n",
              "        vertical-align: top;\n",
              "    }\n",
              "\n",
              "    .dataframe thead th {\n",
              "        text-align: right;\n",
              "    }\n",
              "</style>\n",
              "<table border=\"1\" class=\"dataframe\">\n",
              "  <thead>\n",
              "    <tr style=\"text-align: right;\">\n",
              "      <th></th>\n",
              "      <th>Item_Weight</th>\n",
              "      <th>Item_Visibility</th>\n",
              "      <th>Item_MRP</th>\n",
              "      <th>Outlet_Establishment_Year</th>\n",
              "      <th>Item_Outlet_Sales</th>\n",
              "    </tr>\n",
              "  </thead>\n",
              "  <tbody>\n",
              "    <tr>\n",
              "      <th>count</th>\n",
              "      <td>7060.000000</td>\n",
              "      <td>8523.000000</td>\n",
              "      <td>8523.000000</td>\n",
              "      <td>8523.000000</td>\n",
              "      <td>8523.000000</td>\n",
              "    </tr>\n",
              "    <tr>\n",
              "      <th>mean</th>\n",
              "      <td>12.857645</td>\n",
              "      <td>0.066132</td>\n",
              "      <td>140.992782</td>\n",
              "      <td>1997.831867</td>\n",
              "      <td>2181.288914</td>\n",
              "    </tr>\n",
              "    <tr>\n",
              "      <th>std</th>\n",
              "      <td>4.643456</td>\n",
              "      <td>0.051598</td>\n",
              "      <td>62.275067</td>\n",
              "      <td>8.371760</td>\n",
              "      <td>1706.499616</td>\n",
              "    </tr>\n",
              "    <tr>\n",
              "      <th>min</th>\n",
              "      <td>4.555000</td>\n",
              "      <td>0.000000</td>\n",
              "      <td>31.290000</td>\n",
              "      <td>1985.000000</td>\n",
              "      <td>33.290000</td>\n",
              "    </tr>\n",
              "    <tr>\n",
              "      <th>25%</th>\n",
              "      <td>8.773750</td>\n",
              "      <td>0.026989</td>\n",
              "      <td>93.826500</td>\n",
              "      <td>1987.000000</td>\n",
              "      <td>834.247400</td>\n",
              "    </tr>\n",
              "    <tr>\n",
              "      <th>50%</th>\n",
              "      <td>12.600000</td>\n",
              "      <td>0.053931</td>\n",
              "      <td>143.012800</td>\n",
              "      <td>1999.000000</td>\n",
              "      <td>1794.331000</td>\n",
              "    </tr>\n",
              "    <tr>\n",
              "      <th>75%</th>\n",
              "      <td>16.850000</td>\n",
              "      <td>0.094585</td>\n",
              "      <td>185.643700</td>\n",
              "      <td>2004.000000</td>\n",
              "      <td>3101.296400</td>\n",
              "    </tr>\n",
              "    <tr>\n",
              "      <th>max</th>\n",
              "      <td>21.350000</td>\n",
              "      <td>0.328391</td>\n",
              "      <td>266.888400</td>\n",
              "      <td>2009.000000</td>\n",
              "      <td>13086.964800</td>\n",
              "    </tr>\n",
              "  </tbody>\n",
              "</table>\n",
              "</div>\n",
              "      <button class=\"colab-df-convert\" onclick=\"convertToInteractive('df-6dafd502-9a44-4656-98de-b25140e67a2b')\"\n",
              "              title=\"Convert this dataframe to an interactive table.\"\n",
              "              style=\"display:none;\">\n",
              "        \n",
              "  <svg xmlns=\"http://www.w3.org/2000/svg\" height=\"24px\"viewBox=\"0 0 24 24\"\n",
              "       width=\"24px\">\n",
              "    <path d=\"M0 0h24v24H0V0z\" fill=\"none\"/>\n",
              "    <path d=\"M18.56 5.44l.94 2.06.94-2.06 2.06-.94-2.06-.94-.94-2.06-.94 2.06-2.06.94zm-11 1L8.5 8.5l.94-2.06 2.06-.94-2.06-.94L8.5 2.5l-.94 2.06-2.06.94zm10 10l.94 2.06.94-2.06 2.06-.94-2.06-.94-.94-2.06-.94 2.06-2.06.94z\"/><path d=\"M17.41 7.96l-1.37-1.37c-.4-.4-.92-.59-1.43-.59-.52 0-1.04.2-1.43.59L10.3 9.45l-7.72 7.72c-.78.78-.78 2.05 0 2.83L4 21.41c.39.39.9.59 1.41.59.51 0 1.02-.2 1.41-.59l7.78-7.78 2.81-2.81c.8-.78.8-2.07 0-2.86zM5.41 20L4 18.59l7.72-7.72 1.47 1.35L5.41 20z\"/>\n",
              "  </svg>\n",
              "      </button>\n",
              "      \n",
              "  <style>\n",
              "    .colab-df-container {\n",
              "      display:flex;\n",
              "      flex-wrap:wrap;\n",
              "      gap: 12px;\n",
              "    }\n",
              "\n",
              "    .colab-df-convert {\n",
              "      background-color: #E8F0FE;\n",
              "      border: none;\n",
              "      border-radius: 50%;\n",
              "      cursor: pointer;\n",
              "      display: none;\n",
              "      fill: #1967D2;\n",
              "      height: 32px;\n",
              "      padding: 0 0 0 0;\n",
              "      width: 32px;\n",
              "    }\n",
              "\n",
              "    .colab-df-convert:hover {\n",
              "      background-color: #E2EBFA;\n",
              "      box-shadow: 0px 1px 2px rgba(60, 64, 67, 0.3), 0px 1px 3px 1px rgba(60, 64, 67, 0.15);\n",
              "      fill: #174EA6;\n",
              "    }\n",
              "\n",
              "    [theme=dark] .colab-df-convert {\n",
              "      background-color: #3B4455;\n",
              "      fill: #D2E3FC;\n",
              "    }\n",
              "\n",
              "    [theme=dark] .colab-df-convert:hover {\n",
              "      background-color: #434B5C;\n",
              "      box-shadow: 0px 1px 3px 1px rgba(0, 0, 0, 0.15);\n",
              "      filter: drop-shadow(0px 1px 2px rgba(0, 0, 0, 0.3));\n",
              "      fill: #FFFFFF;\n",
              "    }\n",
              "  </style>\n",
              "\n",
              "      <script>\n",
              "        const buttonEl =\n",
              "          document.querySelector('#df-6dafd502-9a44-4656-98de-b25140e67a2b button.colab-df-convert');\n",
              "        buttonEl.style.display =\n",
              "          google.colab.kernel.accessAllowed ? 'block' : 'none';\n",
              "\n",
              "        async function convertToInteractive(key) {\n",
              "          const element = document.querySelector('#df-6dafd502-9a44-4656-98de-b25140e67a2b');\n",
              "          const dataTable =\n",
              "            await google.colab.kernel.invokeFunction('convertToInteractive',\n",
              "                                                     [key], {});\n",
              "          if (!dataTable) return;\n",
              "\n",
              "          const docLinkHtml = 'Like what you see? Visit the ' +\n",
              "            '<a target=\"_blank\" href=https://colab.research.google.com/notebooks/data_table.ipynb>data table notebook</a>'\n",
              "            + ' to learn more about interactive tables.';\n",
              "          element.innerHTML = '';\n",
              "          dataTable['output_type'] = 'display_data';\n",
              "          await google.colab.output.renderOutput(dataTable, element);\n",
              "          const docLink = document.createElement('div');\n",
              "          docLink.innerHTML = docLinkHtml;\n",
              "          element.appendChild(docLink);\n",
              "        }\n",
              "      </script>\n",
              "    </div>\n",
              "  </div>\n",
              "  "
            ]
          },
          "metadata": {},
          "execution_count": 19
        }
      ]
    },
    {
      "cell_type": "markdown",
      "source": [
        "# Part 3"
      ],
      "metadata": {
        "id": "0Ud5N9E2-8Ki"
      }
    },
    {
      "cell_type": "code",
      "source": [
        "import seaborn as sns\n",
        "sns.histplot(data=df,x='Item_Outlet_Sales');\n",
        "# Right-skewed histogram since all the outlliers are on the right.\n",
        "# It seems as if the majority of the data fall under ~6000 in sales."
      ],
      "metadata": {
        "id": "rYJPo8lSpPRv",
        "outputId": "2d7179c2-db36-4e94-b53a-a1278a811dba",
        "colab": {
          "base_uri": "https://localhost:8080/",
          "height": 280
        }
      },
      "execution_count": 20,
      "outputs": [
        {
          "output_type": "display_data",
          "data": {
            "text/plain": [
              "<Figure size 432x288 with 1 Axes>"
            ],
            "image/png": "[encoded data removed]"
          },
          "metadata": {
            "needs_background": "light"
          }
        }
      ]
    },
    {
      "cell_type": "code",
      "source": [
        "sns.boxplot(data=df, x='Item_Outlet_Sales')\n",
        "# Based on the above histogram, I suspected there'd be some outliers, but I was surprised at how many.\n",
        "# Previously, I assumed most of the data would be less than 8000 but it seems that number is inaccurate based on how many\n",
        "# data points there are beyond 6000."
      ],
      "metadata": {
        "id": "6X0u1QkSsiLf",
        "outputId": "dc826a8e-4a62-4e60-e638-efb2cebc8676",
        "colab": {
          "base_uri": "https://localhost:8080/",
          "height": 297
        }
      },
      "execution_count": 21,
      "outputs": [
        {
          "output_type": "execute_result",
          "data": {
            "text/plain": [
              "<matplotlib.axes._subplots.AxesSubplot at 0x7fc21723c750>"
            ]
          },
          "metadata": {},
          "execution_count": 21
        },
        {
          "output_type": "display_data",
          "data": {
            "text/plain": [
              "<Figure size 432x288 with 1 Axes>"
            ],
            "image/png": "[encoded data removed]"
          },
          "metadata": {
            "needs_background": "light"
          }
        }
      ]
    },
    {
      "cell_type": "code",
      "source": [
        "sns.histplot(data=df,x='Item_Visibility');\n",
        "# Like the histogram for Item_Outlet_Sales, majority of the data for Item_Visibility seems to be less than .2\n",
        "# However, unlike Item_Outlet_Sales, it's clearer in this histogram that there may be a good number of outliers\n",
        "# for Item_Visibility."
      ],
      "metadata": {
        "id": "e8e5jszZyC-r",
        "outputId": "92b8b400-29ae-484c-d4ee-675ee6e0bb16",
        "colab": {
          "base_uri": "https://localhost:8080/",
          "height": 280
        }
      },
      "execution_count": 22,
      "outputs": [
        {
          "output_type": "display_data",
          "data": {
            "text/plain": [
              "<Figure size 432x288 with 1 Axes>"
            ],
            "image/png": "[encoded data removed]"
          },
          "metadata": {
            "needs_background": "light"
          }
        }
      ]
    },
    {
      "cell_type": "code",
      "source": [
        "sns.boxplot(data=df, x='Item_Visibility');\n",
        "# Sure enough, there are a lot of outliers."
      ],
      "metadata": {
        "id": "x3uP-WZHyENE",
        "outputId": "3ac08954-90df-4113-a1a5-3dfeaecc5837",
        "colab": {
          "base_uri": "https://localhost:8080/",
          "height": 280
        }
      },
      "execution_count": 23,
      "outputs": [
        {
          "output_type": "display_data",
          "data": {
            "text/plain": [
              "<Figure size 432x288 with 1 Axes>"
            ],
            "image/png": "[encoded data removed]"
          },
          "metadata": {
            "needs_background": "light"
          }
        }
      ]
    },
    {
      "cell_type": "code",
      "source": [
        "sns.histplot(data=df,x='Outlet_Size',y='Item_Outlet_Sales');\n",
        "# Medium size stores have the widest range of sales amounts while Small stores have the smallest sales range.\n",
        "# It is interesting to note that the sales range between Small and High is not the largest, despite being the largest range size-wise. "
      ],
      "metadata": {
        "id": "fnDIkrumysrL",
        "outputId": "0d4dc6f4-8cc6-4a0f-e8d4-1c09187604d0",
        "colab": {
          "base_uri": "https://localhost:8080/",
          "height": 280
        }
      },
      "execution_count": 24,
      "outputs": [
        {
          "output_type": "display_data",
          "data": {
            "text/plain": [
              "<Figure size 432x288 with 1 Axes>"
            ],
            "image/png": "[encoded data removed]"
          },
          "metadata": {
            "needs_background": "light"
          }
        }
      ]
    },
    {
      "cell_type": "code",
      "source": [
        "sns.boxplot(data=df, x='Item_MRP');\n",
        "# There are no outliers for Item_MRP. All the prices fall within the min-max range."
      ],
      "metadata": {
        "id": "IdMbOszUp4tg",
        "outputId": "743b9d57-cbb8-4a4b-ca1a-74061eacb165",
        "colab": {
          "base_uri": "https://localhost:8080/",
          "height": 280
        }
      },
      "execution_count": 25,
      "outputs": [
        {
          "output_type": "display_data",
          "data": {
            "text/plain": [
              "<Figure size 432x288 with 1 Axes>"
            ],
            "image/png": "[encoded data removed]"
          },
          "metadata": {
            "needs_background": "light"
          }
        }
      ]
    },
    {
      "cell_type": "code",
      "source": [
        "corr = df.corr()\n",
        "plt.title('Correlations')\n",
        "sns.heatmap(corr,annot=True,cmap='Blues');\n",
        "# There is a positive, moderate correlation between Item_MRP and Item_Outlet_Sales."
      ],
      "metadata": {
        "id": "3dkOySdcqLmR",
        "outputId": "3c070186-8b5d-486e-d665-6a9db026548b",
        "colab": {
          "base_uri": "https://localhost:8080/",
          "height": 404
        }
      },
      "execution_count": 52,
      "outputs": [
        {
          "output_type": "display_data",
          "data": {
            "text/plain": [
              "<Figure size 432x288 with 2 Axes>"
            ],
            "image/png": "[encoded data removed]"
          },
          "metadata": {
            "needs_background": "light"
          }
        }
      ]
    },
    {
      "cell_type": "code",
      "source": [
        "import matplotlib.pyplot as plt\n",
        "\n",
        "itemType = df['Item_Type'].value_counts()\n",
        "itemType.plot(kind='bar')\n",
        "plt.title('Item Types');\n",
        "# Most items sold are of type Fruits & Vegetables while the least sold item type is Seafood."
      ],
      "metadata": {
        "id": "oWW-IuRcqdUR",
        "outputId": "80b9fd14-bc85-4a3b-cf99-dee63d9d9e98",
        "colab": {
          "base_uri": "https://localhost:8080/",
          "height": 379
        }
      },
      "execution_count": 27,
      "outputs": [
        {
          "output_type": "display_data",
          "data": {
            "text/plain": [
              "<Figure size 432x288 with 1 Axes>"
            ],
            "image/png": "[encoded data removed]"
          },
          "metadata": {
            "needs_background": "light"
          }
        }
      ]
    },
    {
      "cell_type": "markdown",
      "source": [
        "# Part 4"
      ],
      "metadata": {
        "id": "kMxZclzu-_mj"
      }
    },
    {
      "cell_type": "code",
      "source": [
        "typeAvg = df.groupby('Item_Type')['Item_MRP'].mean()\n",
        "salesAvg = df.groupby('Item_Type')['Item_Outlet_Sales'].mean()"
      ],
      "metadata": {
        "id": "qV4b4RWRyEQo"
      },
      "execution_count": 28,
      "outputs": []
    },
    {
      "cell_type": "code",
      "source": [
        "plt.figure(figsize=(10,5))\n",
        "sns.regplot(x=typeAvg,y=salesAvg)\n",
        "plt.xlabel('Average Item Type Maximum Retail Price (MRP)',fontsize=12)\n",
        "plt.ylabel('Average Item Type Sales',fontsize=12)\n",
        "plt.title(\"Trends Across Item Types' Average MRPs\",fontsize=16)\n",
        "plt.grid()\n",
        "plt.xlim(125,150)\n",
        "plt.ylim(1900,2400)\n",
        "# plt.legend();\n",
        "# Generally, item types with higher average MRPs generated greater sales than those with lesser MRPs.\n",
        "# To increase sales, increasing item prices should be considered."
      ],
      "metadata": {
        "colab": {
          "base_uri": "https://localhost:8080/",
          "height": 71
        },
        "id": "zjQUcp10yYJr",
        "outputId": "3cbd1565-c6f7-49be-9e63-a7eab7a074fd"
      },
      "execution_count": 29,
      "outputs": [
        {
          "output_type": "execute_result",
          "data": {
            "text/plain": [
              "(1900.0, 2400.0)"
            ]
          },
          "metadata": {},
          "execution_count": 29
        },
        {
          "output_type": "display_data",
          "data": {
            "text/plain": [
              "<Figure size 720x360 with 1 Axes>"
            ],
            "image/png": "[encoded data removed]"
          },
          "metadata": {
            "needs_background": "light"
          }
        }
      ]
    },
    {
      "cell_type": "code",
      "source": [
        "plt.figure(figsize=(10,5))\n",
        "typeVis = df.groupby('Item_Type')['Item_Visibility'].mean()\n",
        "sns.scatterplot(x=typeVis,y=salesAvg)\n",
        "plt.xlabel('Average Item Type Visibility',fontsize=12)\n",
        "plt.ylabel('Average Item Type Sales',fontsize=12)\n",
        "plt.grid()\n",
        "plt.xlim(.055,.09)\n",
        "plt.ylim(1900,2400)\n",
        "plt.title(\"The Ineffectiveness of Item Visibility in Increasing Sales\",fontsize=16);\n",
        "# As the graph shows, more visibility does not lead to more sales. In fact, it is likely not influential in\n",
        "# generating sales as the range with greatest sales (0.06 - 0.075) also has the lowest sales. It should not\n",
        "# be considered as a significant factor in raising sales."
      ],
      "metadata": {
        "colab": {
          "base_uri": "https://localhost:8080/",
          "height": 54
        },
        "id": "7IzUQKVW4rxG",
        "outputId": "3c7d04c9-cde0-46d1-fe28-e9732f4156d3"
      },
      "execution_count": 30,
      "outputs": [
        {
          "output_type": "display_data",
          "data": {
            "text/plain": [
              "<Figure size 720x360 with 1 Axes>"
            ],
            "image/png": "[encoded data removed]"
          },
          "metadata": {
            "needs_background": "light"
          }
        }
      ]
    },
    {
      "cell_type": "code",
      "source": [
        "df['Item_Type'].value_counts()"
      ],
      "metadata": {
        "colab": {
          "base_uri": "https://localhost:8080/"
        },
        "id": "78wGpn52-e7c",
        "outputId": "0a0cfc0b-eed5-4a98-f8d4-d4b3178350b8"
      },
      "execution_count": 31,
      "outputs": [
        {
          "output_type": "execute_result",
          "data": {
            "text/plain": [
              "Fruits and Vegetables    1232\n",
              "Snack Foods              1200\n",
              "Household                 910\n",
              "Frozen Foods              856\n",
              "Dairy                     682\n",
              "Canned                    649\n",
              "Baking Goods              648\n",
              "Health and Hygiene        520\n",
              "Soft Drinks               445\n",
              "Meat                      425\n",
              "Breads                    251\n",
              "Hard Drinks               214\n",
              "Others                    169\n",
              "Starchy Foods             148\n",
              "Breakfast                 110\n",
              "Seafood                    64\n",
              "Name: Item_Type, dtype: int64"
            ]
          },
          "metadata": {},
          "execution_count": 31
        }
      ]
    },
    {
      "cell_type": "code",
      "source": [
        "fv = df[df['Item_Type']=='Fruits and Vegetables']['Item_Outlet_Sales']\n",
        "sf = df[df['Item_Type']=='Snack Foods']['Item_Outlet_Sales']\n",
        "h = df[df['Item_Type']=='Household']['Item_Outlet_Sales']\n",
        "ff = df[df['Item_Type']=='Frozen Foods']['Item_Outlet_Sales']\n",
        "d = df[df['Item_Type']=='Dairy']['Item_Outlet_Sales']\n",
        "c = df[df['Item_Type']=='Canned']['Item_Outlet_Sales']\n",
        "bg = df[df['Item_Type']=='Baking Goods']['Item_Outlet_Sales']\n",
        "hh = df[df['Item_Type']=='Health and Hygiene']['Item_Outlet_Sales']\n",
        "sd = df[df['Item_Type']=='Soft Drinks']['Item_Outlet_Sales']\n",
        "m = df[df['Item_Type']=='Meat']['Item_Outlet_Sales']\n",
        "b = df[df['Item_Type']=='Breads']['Item_Outlet_Sales']\n",
        "hd = df[df['Item_Type']=='Hard Drinks']['Item_Outlet_Sales']\n",
        "o = df[df['Item_Type']=='Others']['Item_Outlet_Sales']\n",
        "stf = df[df['Item_Type']=='Starchy Foods']['Item_Outlet_Sales']\n",
        "bf = df[df['Item_Type']=='Breakfast']['Item_Outlet_Sales']\n",
        "seaf = df[df['Item_Type']=='Seafood']['Item_Outlet_Sales']\n",
        "fig,axes = plt.subplots(nrows=1,ncols=1,figsize=(20,20))\n",
        "boxplots = axes.boxplot([fv,sf,h,ff,d,c,bg,hh,sd,m,b,hd,o,stf,bf,seaf],\n",
        "                        widths=.7,\n",
        "                        patch_artist=True,\n",
        "                        meanline=True,\n",
        "                        meanprops = dict(linestyle='-', linewidth=2, color='Yellow'),\n",
        "                        labels = ['Fruits & Veg','Snack Foods','Household','Frozen Foods',\n",
        "                        'Dairy','Canned','Baking \\nGoods','Health &\\nHygiene','Soft Drinks',\n",
        "                        'Meat','Breads','Hard Drinks','Others','Starchy Foods','Breakfast','Seafood'])\n",
        "plt.xlabel('Item Types',fontsize=12)\n",
        "plt.ylabel('Sales',fontsize=12)\n",
        "plt.title('Sales Ranges per Item Type',fontsize=16)\n",
        "plt.grid(axis='y',alpha=.4)\n",
        "plt.ylim(0)\n",
        "plt.legend([f'Fruits & Veg Avg = ${round(fv.mean(),2)}',f'Snack Foods Avg = ${round(sf.mean(),2)}',\n",
        "            f'Household Avg = ${round(h.mean(),2)}',f'Frozen Foods Avg = ${round(ff.mean(),2)}',\n",
        "            f'Dairy Avg = ${round(d.mean(),2)}',f'Canned Avg = ${round(c.mean(),2)}',\n",
        "            f'Baking Goods Avg = ${round(bg.mean(),2)}',f'Health & Hygiene Avg = ${round(hh.mean(),2)}',\n",
        "            f'Soft Drinks Avg = ${round(sd.mean(),2)}',f'Meat Avg = ${round(m.mean(),2)}',\n",
        "            f'Breads Avg = ${round(b.mean(),2)}',f'Hard Drinks Avg = ${round(hd.mean(),2)}',\n",
        "            f'Others Avg = ${round(o.mean(),2)}',f'Starchy Foods Avg = ${round(stf.mean(),2)}',\n",
        "            f'Breakfast Avg = ${round(bf.mean(),2)}',f'Seafood Avg = ${round(seaf.mean(),2)}']);\n",
        "# Based on averages and the ranges of the distributions, there aren't any item types that generate signficantly more sales\n",
        "# than the others. Additionally, most of the outliers of all categories fall under 10,000. Therefore, there aren't any\n",
        "# specific item types stores need to push to increase revenue."
      ],
      "metadata": {
        "colab": {
          "base_uri": "https://localhost:8080/",
          "height": 88
        },
        "id": "EN5AKajq6pAE",
        "outputId": "e05db1e6-9735-4aa6-eb5e-e730a38f3e62"
      },
      "execution_count": 32,
      "outputs": [
        {
          "output_type": "stream",
          "name": "stderr",
          "text": [
            "/usr/local/lib/python3.7/dist-packages/matplotlib/cbook/__init__.py:1376: VisibleDeprecationWarning: Creating an ndarray from ragged nested sequences (which is a list-or-tuple of lists-or-tuples-or ndarrays with different lengths or shapes) is deprecated. If you meant to do this, you must specify 'dtype=object' when creating the ndarray.\n",
            "  X = np.atleast_1d(X.T if isinstance(X, np.ndarray) else np.asarray(X))\n"
          ]
        },
        {
          "output_type": "display_data",
          "data": {
            "text/plain": [
              "<Figure size 1440x1440 with 1 Axes>"
            ],
            "image/png": "[encoded data removed]"
          },
          "metadata": {
            "needs_background": "light"
          }
        }
      ]
    },
    {
      "cell_type": "markdown",
      "source": [
        "# Part 5"
      ],
      "metadata": {
        "id": "3lak-iMp_CjW"
      }
    },
    {
      "cell_type": "code",
      "source": [
        "import numpy as np\n",
        "from sklearn.preprocessing import StandardScaler, OneHotEncoder\n",
        "from sklearn.impute import SimpleImputer\n",
        "from sklearn.compose import make_column_transformer, make_column_selector\n",
        "from sklearn.pipeline import make_pipeline\n",
        "from sklearn.model_selection import train_test_split\n",
        "from sklearn import set_config\n",
        "set_config(display='diagram')"
      ],
      "metadata": {
        "id": "z2jmtVQC_gqz"
      },
      "execution_count": 33,
      "outputs": []
    },
    {
      "cell_type": "code",
      "source": [
        "# ordinal encoding for Outlet_Size\n",
        "replaceDict = {'High':2, 'Medium':1, 'Small':0}\n",
        "df['Outlet_Size'].replace(replaceDict, inplace=True)\n",
        "df['Outlet_Size']"
      ],
      "metadata": {
        "colab": {
          "base_uri": "https://localhost:8080/"
        },
        "id": "k8LTzrPbAtAU",
        "outputId": "0616a067-6f5b-43cf-84b0-ba8eccb1e3ee"
      },
      "execution_count": 34,
      "outputs": [
        {
          "output_type": "execute_result",
          "data": {
            "text/plain": [
              "0       1.0\n",
              "1       1.0\n",
              "2       1.0\n",
              "3       NaN\n",
              "4       2.0\n",
              "       ... \n",
              "8518    2.0\n",
              "8519    NaN\n",
              "8520    0.0\n",
              "8521    1.0\n",
              "8522    0.0\n",
              "Name: Outlet_Size, Length: 8523, dtype: float64"
            ]
          },
          "metadata": {},
          "execution_count": 34
        }
      ]
    },
    {
      "cell_type": "code",
      "source": [
        "# creating feature matrix and target series\n",
        "X = df.drop(\"Item_Outlet_Sales\", axis=1)\n",
        "y = df[\"Item_Outlet_Sales\"]\n",
        "\n",
        "# splitting data into training and testing\n",
        "X_train, X_test, y_train, y_test = train_test_split(X, y, random_state=42)"
      ],
      "metadata": {
        "id": "w0dUO39h_EdV"
      },
      "execution_count": 35,
      "outputs": []
    },
    {
      "cell_type": "code",
      "source": [
        "# column selectors\n",
        "numSelector = make_column_selector(dtype_include='number')\n",
        "catSelector = make_column_selector(dtype_include='object')"
      ],
      "metadata": {
        "id": "5PRjV-NF___f"
      },
      "execution_count": 36,
      "outputs": []
    },
    {
      "cell_type": "code",
      "source": [
        "# instantiating transformers\n",
        "\n",
        "# Imputers\n",
        "meanImputer = SimpleImputer(strategy='mean')\n",
        "constantImputer = SimpleImputer(strategy='constant', fill_value='Missing')\n",
        "\n",
        "# Scaler\n",
        "scaler = StandardScaler()\n",
        "\n",
        "# One Hot Encoding\n",
        "ohe = OneHotEncoder(sparse=False, handle_unknown='ignore')\n"
      ],
      "metadata": {
        "id": "w6PjSvwnAFjP"
      },
      "execution_count": 37,
      "outputs": []
    },
    {
      "cell_type": "code",
      "source": [
        "# instantiating pipelines\n",
        "numPipe = make_pipeline(meanImputer, scaler)\n",
        "catPipe = make_pipeline(constantImputer, ohe)"
      ],
      "metadata": {
        "id": "9Yevf_H-AkO7"
      },
      "execution_count": 38,
      "outputs": []
    },
    {
      "cell_type": "code",
      "source": [
        "# instantiating columntransformer\n",
        "\n",
        "numTuple = (numPipe, numSelector)\n",
        "catTuple = (catPipe, catSelector)\n",
        "\n",
        "preprocessor = make_column_transformer(numTuple,catTuple)\n",
        "preprocessor"
      ],
      "metadata": {
        "colab": {
          "base_uri": "https://localhost:8080/",
          "height": 203
        },
        "id": "a_yc_izJCp1K",
        "outputId": "16101ecc-64eb-437c-e0d5-9c5d11679a11"
      },
      "execution_count": 39,
      "outputs": [
        {
          "output_type": "execute_result",
          "data": {
            "text/plain": [
              "ColumnTransformer(transformers=[('pipeline-1',\n",
              "                                 Pipeline(steps=[('simpleimputer',\n",
              "                                                  SimpleImputer()),\n",
              "                                                 ('standardscaler',\n",
              "                                                  StandardScaler())]),\n",
              "                                 <sklearn.compose._column_transformer.make_column_selector object at 0x7fc214204c90>),\n",
              "                                ('pipeline-2',\n",
              "                                 Pipeline(steps=[('simpleimputer',\n",
              "                                                  SimpleImputer(fill_value='Missing',\n",
              "                                                                strategy='constant')),\n",
              "                                                 ('onehotencoder',\n",
              "                                                  OneHotEncoder(handle_unknown='ignore',\n",
              "                                                                sparse=False))]),\n",
              "                                 <sklearn.compose._column_transformer.make_column_selector object at 0x7fc214204ad0>)])"
            ],
            "text/html": [
              "<style>#sk-80b0fbb7-b94e-4405-b1a0-5b573a4a6f34 {color: black;background-color: white;}#sk-80b0fbb7-b94e-4405-b1a0-5b573a4a6f34 pre{padding: 0;}#sk-80b0fbb7-b94e-4405-b1a0-5b573a4a6f34 div.sk-toggleable {background-color: white;}#sk-80b0fbb7-b94e-4405-b1a0-5b573a4a6f34 label.sk-toggleable__label {cursor: pointer;display: block;width: 100%;margin-bottom: 0;padding: 0.3em;box-sizing: border-box;text-align: center;}#sk-80b0fbb7-b94e-4405-b1a0-5b573a4a6f34 label.sk-toggleable__label-arrow:before {content: \"▸\";float: left;margin-right: 0.25em;color: #696969;}#sk-80b0fbb7-b94e-4405-b1a0-5b573a4a6f34 label.sk-toggleable__label-arrow:hover:before {color: black;}#sk-80b0fbb7-b94e-4405-b1a0-5b573a4a6f34 div.sk-estimator:hover label.sk-toggleable__label-arrow:before {color: black;}#sk-80b0fbb7-b94e-4405-b1a0-5b573a4a6f34 div.sk-toggleable__content {max-height: 0;max-width: 0;overflow: hidden;text-align: left;background-color: #f0f8ff;}#sk-80b0fbb7-b94e-4405-b1a0-5b573a4a6f34 div.sk-toggleable__content pre {margin: 0.2em;color: black;border-radius: 0.25em;background-color: #f0f8ff;}#sk-80b0fbb7-b94e-4405-b1a0-5b573a4a6f34 input.sk-toggleable__control:checked~div.sk-toggleable__content {max-height: 200px;max-width: 100%;overflow: auto;}#sk-80b0fbb7-b94e-4405-b1a0-5b573a4a6f34 input.sk-toggleable__control:checked~label.sk-toggleable__label-arrow:before {content: \"▾\";}#sk-80b0fbb7-b94e-4405-b1a0-5b573a4a6f34 div.sk-estimator input.sk-toggleable__control:checked~label.sk-toggleable__label {background-color: #d4ebff;}#sk-80b0fbb7-b94e-4405-b1a0-5b573a4a6f34 div.sk-label input.sk-toggleable__control:checked~label.sk-toggleable__label {background-color: #d4ebff;}#sk-80b0fbb7-b94e-4405-b1a0-5b573a4a6f34 input.sk-hidden--visually {border: 0;clip: rect(1px 1px 1px 1px);clip: rect(1px, 1px, 1px, 1px);height: 1px;margin: -1px;overflow: hidden;padding: 0;position: absolute;width: 1px;}#sk-80b0fbb7-b94e-4405-b1a0-5b573a4a6f34 div.sk-estimator {font-family: monospace;background-color: #f0f8ff;border: 1px dotted black;border-radius: 0.25em;box-sizing: border-box;margin-bottom: 0.5em;}#sk-80b0fbb7-b94e-4405-b1a0-5b573a4a6f34 div.sk-estimator:hover {background-color: #d4ebff;}#sk-80b0fbb7-b94e-4405-b1a0-5b573a4a6f34 div.sk-parallel-item::after {content: \"\";width: 100%;border-bottom: 1px solid gray;flex-grow: 1;}#sk-80b0fbb7-b94e-4405-b1a0-5b573a4a6f34 div.sk-label:hover label.sk-toggleable__label {background-color: #d4ebff;}#sk-80b0fbb7-b94e-4405-b1a0-5b573a4a6f34 div.sk-serial::before {content: \"\";position: absolute;border-left: 1px solid gray;box-sizing: border-box;top: 2em;bottom: 0;left: 50%;}#sk-80b0fbb7-b94e-4405-b1a0-5b573a4a6f34 div.sk-serial {display: flex;flex-direction: column;align-items: center;background-color: white;padding-right: 0.2em;padding-left: 0.2em;}#sk-80b0fbb7-b94e-4405-b1a0-5b573a4a6f34 div.sk-item {z-index: 1;}#sk-80b0fbb7-b94e-4405-b1a0-5b573a4a6f34 div.sk-parallel {display: flex;align-items: stretch;justify-content: center;background-color: white;}#sk-80b0fbb7-b94e-4405-b1a0-5b573a4a6f34 div.sk-parallel::before {content: \"\";position: absolute;border-left: 1px solid gray;box-sizing: border-box;top: 2em;bottom: 0;left: 50%;}#sk-80b0fbb7-b94e-4405-b1a0-5b573a4a6f34 div.sk-parallel-item {display: flex;flex-direction: column;position: relative;background-color: white;}#sk-80b0fbb7-b94e-4405-b1a0-5b573a4a6f34 div.sk-parallel-item:first-child::after {align-self: flex-end;width: 50%;}#sk-80b0fbb7-b94e-4405-b1a0-5b573a4a6f34 div.sk-parallel-item:last-child::after {align-self: flex-start;width: 50%;}#sk-80b0fbb7-b94e-4405-b1a0-5b573a4a6f34 div.sk-parallel-item:only-child::after {width: 0;}#sk-80b0fbb7-b94e-4405-b1a0-5b573a4a6f34 div.sk-dashed-wrapped {border: 1px dashed gray;margin: 0 0.4em 0.5em 0.4em;box-sizing: border-box;padding-bottom: 0.4em;background-color: white;position: relative;}#sk-80b0fbb7-b94e-4405-b1a0-5b573a4a6f34 div.sk-label label {font-family: monospace;font-weight: bold;background-color: white;display: inline-block;line-height: 1.2em;}#sk-80b0fbb7-b94e-4405-b1a0-5b573a4a6f34 div.sk-label-container {position: relative;z-index: 2;text-align: center;}#sk-80b0fbb7-b94e-4405-b1a0-5b573a4a6f34 div.sk-container {/* jupyter's `normalize.less` sets `[hidden] { display: none; }` but bootstrap.min.css set `[hidden] { display: none !important; }` so we also need the `!important` here to be able to override the default hidden behavior on the sphinx rendered scikit-learn.org. See: https://github.com/scikit-learn/scikit-learn/issues/21755 */display: inline-block !important;position: relative;}#sk-80b0fbb7-b94e-4405-b1a0-5b573a4a6f34 div.sk-text-repr-fallback {display: none;}</style><div id=\"sk-80b0fbb7-b94e-4405-b1a0-5b573a4a6f34\" class=\"sk-top-container\"><div class=\"sk-text-repr-fallback\"><pre>ColumnTransformer(transformers=[(&#x27;pipeline-1&#x27;,\n",
              "                                 Pipeline(steps=[(&#x27;simpleimputer&#x27;,\n",
              "                                                  SimpleImputer()),\n",
              "                                                 (&#x27;standardscaler&#x27;,\n",
              "                                                  StandardScaler())]),\n",
              "                                 &lt;sklearn.compose._column_transformer.make_column_selector object at 0x7fc214204c90&gt;),\n",
              "                                (&#x27;pipeline-2&#x27;,\n",
              "                                 Pipeline(steps=[(&#x27;simpleimputer&#x27;,\n",
              "                                                  SimpleImputer(fill_value=&#x27;Missing&#x27;,\n",
              "                                                                strategy=&#x27;constant&#x27;)),\n",
              "                                                 (&#x27;onehotencoder&#x27;,\n",
              "                                                  OneHotEncoder(handle_unknown=&#x27;ignore&#x27;,\n",
              "                                                                sparse=False))]),\n",
              "                                 &lt;sklearn.compose._column_transformer.make_column_selector object at 0x7fc214204ad0&gt;)])</pre><b>Please rerun this cell to show the HTML repr or trust the notebook.</b></div><div class=\"sk-container\" hidden><div class=\"sk-item sk-dashed-wrapped\"><div class=\"sk-label-container\"><div class=\"sk-label sk-toggleable\"><input class=\"sk-toggleable__control sk-hidden--visually\" id=\"409fcb26-fad5-4492-98f2-8f322b66ab45\" type=\"checkbox\" ><label for=\"409fcb26-fad5-4492-98f2-8f322b66ab45\" class=\"sk-toggleable__label sk-toggleable__label-arrow\">ColumnTransformer</label><div class=\"sk-toggleable__content\"><pre>ColumnTransformer(transformers=[(&#x27;pipeline-1&#x27;,\n",
              "                                 Pipeline(steps=[(&#x27;simpleimputer&#x27;,\n",
              "                                                  SimpleImputer()),\n",
              "                                                 (&#x27;standardscaler&#x27;,\n",
              "                                                  StandardScaler())]),\n",
              "                                 &lt;sklearn.compose._column_transformer.make_column_selector object at 0x7fc214204c90&gt;),\n",
              "                                (&#x27;pipeline-2&#x27;,\n",
              "                                 Pipeline(steps=[(&#x27;simpleimputer&#x27;,\n",
              "                                                  SimpleImputer(fill_value=&#x27;Missing&#x27;,\n",
              "                                                                strategy=&#x27;constant&#x27;)),\n",
              "                                                 (&#x27;onehotencoder&#x27;,\n",
              "                                                  OneHotEncoder(handle_unknown=&#x27;ignore&#x27;,\n",
              "                                                                sparse=False))]),\n",
              "                                 &lt;sklearn.compose._column_transformer.make_column_selector object at 0x7fc214204ad0&gt;)])</pre></div></div></div><div class=\"sk-parallel\"><div class=\"sk-parallel-item\"><div class=\"sk-item\"><div class=\"sk-label-container\"><div class=\"sk-label sk-toggleable\"><input class=\"sk-toggleable__control sk-hidden--visually\" id=\"a3053941-4c81-43e9-b26e-a2d8a96f854e\" type=\"checkbox\" ><label for=\"a3053941-4c81-43e9-b26e-a2d8a96f854e\" class=\"sk-toggleable__label sk-toggleable__label-arrow\">pipeline-1</label><div class=\"sk-toggleable__content\"><pre>&lt;sklearn.compose._column_transformer.make_column_selector object at 0x7fc214204c90&gt;</pre></div></div></div><div class=\"sk-serial\"><div class=\"sk-item\"><div class=\"sk-serial\"><div class=\"sk-item\"><div class=\"sk-estimator sk-toggleable\"><input class=\"sk-toggleable__control sk-hidden--visually\" id=\"a12ed8d4-6678-4ebb-adef-cc11d05731c7\" type=\"checkbox\" ><label for=\"a12ed8d4-6678-4ebb-adef-cc11d05731c7\" class=\"sk-toggleable__label sk-toggleable__label-arrow\">SimpleImputer</label><div class=\"sk-toggleable__content\"><pre>SimpleImputer()</pre></div></div></div><div class=\"sk-item\"><div class=\"sk-estimator sk-toggleable\"><input class=\"sk-toggleable__control sk-hidden--visually\" id=\"01fdb547-b026-49c9-b53a-46d9361238d4\" type=\"checkbox\" ><label for=\"01fdb547-b026-49c9-b53a-46d9361238d4\" class=\"sk-toggleable__label sk-toggleable__label-arrow\">StandardScaler</label><div class=\"sk-toggleable__content\"><pre>StandardScaler()</pre></div></div></div></div></div></div></div></div><div class=\"sk-parallel-item\"><div class=\"sk-item\"><div class=\"sk-label-container\"><div class=\"sk-label sk-toggleable\"><input class=\"sk-toggleable__control sk-hidden--visually\" id=\"f868421d-0ba5-46d8-a555-c007eb7c2609\" type=\"checkbox\" ><label for=\"f868421d-0ba5-46d8-a555-c007eb7c2609\" class=\"sk-toggleable__label sk-toggleable__label-arrow\">pipeline-2</label><div class=\"sk-toggleable__content\"><pre>&lt;sklearn.compose._column_transformer.make_column_selector object at 0x7fc214204ad0&gt;</pre></div></div></div><div class=\"sk-serial\"><div class=\"sk-item\"><div class=\"sk-serial\"><div class=\"sk-item\"><div class=\"sk-estimator sk-toggleable\"><input class=\"sk-toggleable__control sk-hidden--visually\" id=\"56721c5c-8bfb-42aa-9f8b-485d465dffab\" type=\"checkbox\" ><label for=\"56721c5c-8bfb-42aa-9f8b-485d465dffab\" class=\"sk-toggleable__label sk-toggleable__label-arrow\">SimpleImputer</label><div class=\"sk-toggleable__content\"><pre>SimpleImputer(fill_value=&#x27;Missing&#x27;, strategy=&#x27;constant&#x27;)</pre></div></div></div><div class=\"sk-item\"><div class=\"sk-estimator sk-toggleable\"><input class=\"sk-toggleable__control sk-hidden--visually\" id=\"51646e00-5362-48ca-8aba-5354546981dd\" type=\"checkbox\" ><label for=\"51646e00-5362-48ca-8aba-5354546981dd\" class=\"sk-toggleable__label sk-toggleable__label-arrow\">OneHotEncoder</label><div class=\"sk-toggleable__content\"><pre>OneHotEncoder(handle_unknown=&#x27;ignore&#x27;, sparse=False)</pre></div></div></div></div></div></div></div></div></div></div></div></div>"
            ]
          },
          "metadata": {},
          "execution_count": 39
        }
      ]
    },
    {
      "cell_type": "code",
      "source": [
        "# fitting training data\n",
        "preprocessor.fit(X_train)"
      ],
      "metadata": {
        "colab": {
          "base_uri": "https://localhost:8080/",
          "height": 203
        },
        "id": "RjXOxmEkDMIX",
        "outputId": "ac7a9126-ca72-4f4d-a0f2-9a509046ee9c"
      },
      "execution_count": 40,
      "outputs": [
        {
          "output_type": "execute_result",
          "data": {
            "text/plain": [
              "ColumnTransformer(transformers=[('pipeline-1',\n",
              "                                 Pipeline(steps=[('simpleimputer',\n",
              "                                                  SimpleImputer()),\n",
              "                                                 ('standardscaler',\n",
              "                                                  StandardScaler())]),\n",
              "                                 <sklearn.compose._column_transformer.make_column_selector object at 0x7fc214204c90>),\n",
              "                                ('pipeline-2',\n",
              "                                 Pipeline(steps=[('simpleimputer',\n",
              "                                                  SimpleImputer(fill_value='Missing',\n",
              "                                                                strategy='constant')),\n",
              "                                                 ('onehotencoder',\n",
              "                                                  OneHotEncoder(handle_unknown='ignore',\n",
              "                                                                sparse=False))]),\n",
              "                                 <sklearn.compose._column_transformer.make_column_selector object at 0x7fc214204ad0>)])"
            ],
            "text/html": [
              "<style>#sk-acbf2e1f-727b-430f-bb9f-809125b8c792 {color: black;background-color: white;}#sk-acbf2e1f-727b-430f-bb9f-809125b8c792 pre{padding: 0;}#sk-acbf2e1f-727b-430f-bb9f-809125b8c792 div.sk-toggleable {background-color: white;}#sk-acbf2e1f-727b-430f-bb9f-809125b8c792 label.sk-toggleable__label {cursor: pointer;display: block;width: 100%;margin-bottom: 0;padding: 0.3em;box-sizing: border-box;text-align: center;}#sk-acbf2e1f-727b-430f-bb9f-809125b8c792 label.sk-toggleable__label-arrow:before {content: \"▸\";float: left;margin-right: 0.25em;color: #696969;}#sk-acbf2e1f-727b-430f-bb9f-809125b8c792 label.sk-toggleable__label-arrow:hover:before {color: black;}#sk-acbf2e1f-727b-430f-bb9f-809125b8c792 div.sk-estimator:hover label.sk-toggleable__label-arrow:before {color: black;}#sk-acbf2e1f-727b-430f-bb9f-809125b8c792 div.sk-toggleable__content {max-height: 0;max-width: 0;overflow: hidden;text-align: left;background-color: #f0f8ff;}#sk-acbf2e1f-727b-430f-bb9f-809125b8c792 div.sk-toggleable__content pre {margin: 0.2em;color: black;border-radius: 0.25em;background-color: #f0f8ff;}#sk-acbf2e1f-727b-430f-bb9f-809125b8c792 input.sk-toggleable__control:checked~div.sk-toggleable__content {max-height: 200px;max-width: 100%;overflow: auto;}#sk-acbf2e1f-727b-430f-bb9f-809125b8c792 input.sk-toggleable__control:checked~label.sk-toggleable__label-arrow:before {content: \"▾\";}#sk-acbf2e1f-727b-430f-bb9f-809125b8c792 div.sk-estimator input.sk-toggleable__control:checked~label.sk-toggleable__label {background-color: #d4ebff;}#sk-acbf2e1f-727b-430f-bb9f-809125b8c792 div.sk-label input.sk-toggleable__control:checked~label.sk-toggleable__label {background-color: #d4ebff;}#sk-acbf2e1f-727b-430f-bb9f-809125b8c792 input.sk-hidden--visually {border: 0;clip: rect(1px 1px 1px 1px);clip: rect(1px, 1px, 1px, 1px);height: 1px;margin: -1px;overflow: hidden;padding: 0;position: absolute;width: 1px;}#sk-acbf2e1f-727b-430f-bb9f-809125b8c792 div.sk-estimator {font-family: monospace;background-color: #f0f8ff;border: 1px dotted black;border-radius: 0.25em;box-sizing: border-box;margin-bottom: 0.5em;}#sk-acbf2e1f-727b-430f-bb9f-809125b8c792 div.sk-estimator:hover {background-color: #d4ebff;}#sk-acbf2e1f-727b-430f-bb9f-809125b8c792 div.sk-parallel-item::after {content: \"\";width: 100%;border-bottom: 1px solid gray;flex-grow: 1;}#sk-acbf2e1f-727b-430f-bb9f-809125b8c792 div.sk-label:hover label.sk-toggleable__label {background-color: #d4ebff;}#sk-acbf2e1f-727b-430f-bb9f-809125b8c792 div.sk-serial::before {content: \"\";position: absolute;border-left: 1px solid gray;box-sizing: border-box;top: 2em;bottom: 0;left: 50%;}#sk-acbf2e1f-727b-430f-bb9f-809125b8c792 div.sk-serial {display: flex;flex-direction: column;align-items: center;background-color: white;padding-right: 0.2em;padding-left: 0.2em;}#sk-acbf2e1f-727b-430f-bb9f-809125b8c792 div.sk-item {z-index: 1;}#sk-acbf2e1f-727b-430f-bb9f-809125b8c792 div.sk-parallel {display: flex;align-items: stretch;justify-content: center;background-color: white;}#sk-acbf2e1f-727b-430f-bb9f-809125b8c792 div.sk-parallel::before {content: \"\";position: absolute;border-left: 1px solid gray;box-sizing: border-box;top: 2em;bottom: 0;left: 50%;}#sk-acbf2e1f-727b-430f-bb9f-809125b8c792 div.sk-parallel-item {display: flex;flex-direction: column;position: relative;background-color: white;}#sk-acbf2e1f-727b-430f-bb9f-809125b8c792 div.sk-parallel-item:first-child::after {align-self: flex-end;width: 50%;}#sk-acbf2e1f-727b-430f-bb9f-809125b8c792 div.sk-parallel-item:last-child::after {align-self: flex-start;width: 50%;}#sk-acbf2e1f-727b-430f-bb9f-809125b8c792 div.sk-parallel-item:only-child::after {width: 0;}#sk-acbf2e1f-727b-430f-bb9f-809125b8c792 div.sk-dashed-wrapped {border: 1px dashed gray;margin: 0 0.4em 0.5em 0.4em;box-sizing: border-box;padding-bottom: 0.4em;background-color: white;position: relative;}#sk-acbf2e1f-727b-430f-bb9f-809125b8c792 div.sk-label label {font-family: monospace;font-weight: bold;background-color: white;display: inline-block;line-height: 1.2em;}#sk-acbf2e1f-727b-430f-bb9f-809125b8c792 div.sk-label-container {position: relative;z-index: 2;text-align: center;}#sk-acbf2e1f-727b-430f-bb9f-809125b8c792 div.sk-container {/* jupyter's `normalize.less` sets `[hidden] { display: none; }` but bootstrap.min.css set `[hidden] { display: none !important; }` so we also need the `!important` here to be able to override the default hidden behavior on the sphinx rendered scikit-learn.org. See: https://github.com/scikit-learn/scikit-learn/issues/21755 */display: inline-block !important;position: relative;}#sk-acbf2e1f-727b-430f-bb9f-809125b8c792 div.sk-text-repr-fallback {display: none;}</style><div id=\"sk-acbf2e1f-727b-430f-bb9f-809125b8c792\" class=\"sk-top-container\"><div class=\"sk-text-repr-fallback\"><pre>ColumnTransformer(transformers=[(&#x27;pipeline-1&#x27;,\n",
              "                                 Pipeline(steps=[(&#x27;simpleimputer&#x27;,\n",
              "                                                  SimpleImputer()),\n",
              "                                                 (&#x27;standardscaler&#x27;,\n",
              "                                                  StandardScaler())]),\n",
              "                                 &lt;sklearn.compose._column_transformer.make_column_selector object at 0x7fc214204c90&gt;),\n",
              "                                (&#x27;pipeline-2&#x27;,\n",
              "                                 Pipeline(steps=[(&#x27;simpleimputer&#x27;,\n",
              "                                                  SimpleImputer(fill_value=&#x27;Missing&#x27;,\n",
              "                                                                strategy=&#x27;constant&#x27;)),\n",
              "                                                 (&#x27;onehotencoder&#x27;,\n",
              "                                                  OneHotEncoder(handle_unknown=&#x27;ignore&#x27;,\n",
              "                                                                sparse=False))]),\n",
              "                                 &lt;sklearn.compose._column_transformer.make_column_selector object at 0x7fc214204ad0&gt;)])</pre><b>Please rerun this cell to show the HTML repr or trust the notebook.</b></div><div class=\"sk-container\" hidden><div class=\"sk-item sk-dashed-wrapped\"><div class=\"sk-label-container\"><div class=\"sk-label sk-toggleable\"><input class=\"sk-toggleable__control sk-hidden--visually\" id=\"2a72a10d-c21b-4077-9164-62afec27ff10\" type=\"checkbox\" ><label for=\"2a72a10d-c21b-4077-9164-62afec27ff10\" class=\"sk-toggleable__label sk-toggleable__label-arrow\">ColumnTransformer</label><div class=\"sk-toggleable__content\"><pre>ColumnTransformer(transformers=[(&#x27;pipeline-1&#x27;,\n",
              "                                 Pipeline(steps=[(&#x27;simpleimputer&#x27;,\n",
              "                                                  SimpleImputer()),\n",
              "                                                 (&#x27;standardscaler&#x27;,\n",
              "                                                  StandardScaler())]),\n",
              "                                 &lt;sklearn.compose._column_transformer.make_column_selector object at 0x7fc214204c90&gt;),\n",
              "                                (&#x27;pipeline-2&#x27;,\n",
              "                                 Pipeline(steps=[(&#x27;simpleimputer&#x27;,\n",
              "                                                  SimpleImputer(fill_value=&#x27;Missing&#x27;,\n",
              "                                                                strategy=&#x27;constant&#x27;)),\n",
              "                                                 (&#x27;onehotencoder&#x27;,\n",
              "                                                  OneHotEncoder(handle_unknown=&#x27;ignore&#x27;,\n",
              "                                                                sparse=False))]),\n",
              "                                 &lt;sklearn.compose._column_transformer.make_column_selector object at 0x7fc214204ad0&gt;)])</pre></div></div></div><div class=\"sk-parallel\"><div class=\"sk-parallel-item\"><div class=\"sk-item\"><div class=\"sk-label-container\"><div class=\"sk-label sk-toggleable\"><input class=\"sk-toggleable__control sk-hidden--visually\" id=\"8285d6c9-d7b5-4154-ac27-e8f7ea96f035\" type=\"checkbox\" ><label for=\"8285d6c9-d7b5-4154-ac27-e8f7ea96f035\" class=\"sk-toggleable__label sk-toggleable__label-arrow\">pipeline-1</label><div class=\"sk-toggleable__content\"><pre>&lt;sklearn.compose._column_transformer.make_column_selector object at 0x7fc214204c90&gt;</pre></div></div></div><div class=\"sk-serial\"><div class=\"sk-item\"><div class=\"sk-serial\"><div class=\"sk-item\"><div class=\"sk-estimator sk-toggleable\"><input class=\"sk-toggleable__control sk-hidden--visually\" id=\"29974545-664b-47f6-a984-03afc82dfba5\" type=\"checkbox\" ><label for=\"29974545-664b-47f6-a984-03afc82dfba5\" class=\"sk-toggleable__label sk-toggleable__label-arrow\">SimpleImputer</label><div class=\"sk-toggleable__content\"><pre>SimpleImputer()</pre></div></div></div><div class=\"sk-item\"><div class=\"sk-estimator sk-toggleable\"><input class=\"sk-toggleable__control sk-hidden--visually\" id=\"e0aeee95-019f-46f7-8835-ea49debf45e9\" type=\"checkbox\" ><label for=\"e0aeee95-019f-46f7-8835-ea49debf45e9\" class=\"sk-toggleable__label sk-toggleable__label-arrow\">StandardScaler</label><div class=\"sk-toggleable__content\"><pre>StandardScaler()</pre></div></div></div></div></div></div></div></div><div class=\"sk-parallel-item\"><div class=\"sk-item\"><div class=\"sk-label-container\"><div class=\"sk-label sk-toggleable\"><input class=\"sk-toggleable__control sk-hidden--visually\" id=\"53b2d88a-d871-4a7e-b28f-4a1d8def1161\" type=\"checkbox\" ><label for=\"53b2d88a-d871-4a7e-b28f-4a1d8def1161\" class=\"sk-toggleable__label sk-toggleable__label-arrow\">pipeline-2</label><div class=\"sk-toggleable__content\"><pre>&lt;sklearn.compose._column_transformer.make_column_selector object at 0x7fc214204ad0&gt;</pre></div></div></div><div class=\"sk-serial\"><div class=\"sk-item\"><div class=\"sk-serial\"><div class=\"sk-item\"><div class=\"sk-estimator sk-toggleable\"><input class=\"sk-toggleable__control sk-hidden--visually\" id=\"bf0b76e8-68c9-46ad-a9cc-e777524d99e4\" type=\"checkbox\" ><label for=\"bf0b76e8-68c9-46ad-a9cc-e777524d99e4\" class=\"sk-toggleable__label sk-toggleable__label-arrow\">SimpleImputer</label><div class=\"sk-toggleable__content\"><pre>SimpleImputer(fill_value=&#x27;Missing&#x27;, strategy=&#x27;constant&#x27;)</pre></div></div></div><div class=\"sk-item\"><div class=\"sk-estimator sk-toggleable\"><input class=\"sk-toggleable__control sk-hidden--visually\" id=\"9e57c7ba-009a-409f-a29c-92b0164f0fe1\" type=\"checkbox\" ><label for=\"9e57c7ba-009a-409f-a29c-92b0164f0fe1\" class=\"sk-toggleable__label sk-toggleable__label-arrow\">OneHotEncoder</label><div class=\"sk-toggleable__content\"><pre>OneHotEncoder(handle_unknown=&#x27;ignore&#x27;, sparse=False)</pre></div></div></div></div></div></div></div></div></div></div></div></div>"
            ]
          },
          "metadata": {},
          "execution_count": 40
        }
      ]
    },
    {
      "cell_type": "code",
      "source": [
        "# transforming training & testing data\n",
        "X_train_processed = preprocessor.transform(X_train)\n",
        "X_test_processed = preprocessor.transform(X_test)"
      ],
      "metadata": {
        "id": "SPE0c-TcDYqS"
      },
      "execution_count": 41,
      "outputs": []
    },
    {
      "cell_type": "code",
      "source": [
        "print(np.isnan(X_train_processed).sum().sum(), 'missing values for X_train_processed.')\n",
        "print(np.isnan(X_test_processed).sum().sum(), 'missing values for X_test_processed.')\n",
        "print('\\n')\n",
        "print('X_train_processed datatype is:', X_train_processed.dtype)\n",
        "print('X_test_processed datatype is:', X_test_processed.dtype)\n",
        "print('\\n')\n",
        "print('Shape of data is:', X_train_processed.shape)\n",
        "X_train_processed"
      ],
      "metadata": {
        "colab": {
          "base_uri": "https://localhost:8080/"
        },
        "id": "T9SQ2gWYDlma",
        "outputId": "cd371d1a-3e80-4237-91a6-5f662a1992a8"
      },
      "execution_count": 42,
      "outputs": [
        {
          "output_type": "stream",
          "name": "stdout",
          "text": [
            "0 missing values for X_train_processed.\n",
            "0 missing values for X_test_processed.\n",
            "\n",
            "\n",
            "X_train_processed datatype is: float64\n",
            "X_test_processed datatype is: float64\n",
            "\n",
            "\n",
            "Shape of data is: (6392, 1590)\n"
          ]
        },
        {
          "output_type": "execute_result",
          "data": {
            "text/plain": [
              "array([[ 0.81724868, -0.71277507,  1.82810922, ...,  0.        ,\n",
              "         1.        ,  0.        ],\n",
              "       [ 0.5563395 , -1.29105225,  0.60336888, ...,  0.        ,\n",
              "         1.        ,  0.        ],\n",
              "       [-0.13151196,  1.81331864,  0.24454056, ...,  1.        ,\n",
              "         0.        ,  0.        ],\n",
              "       ...,\n",
              "       [ 1.11373638, -0.92052713,  1.52302674, ...,  1.        ,\n",
              "         0.        ,  0.        ],\n",
              "       [ 1.76600931, -0.2277552 , -0.38377708, ...,  1.        ,\n",
              "         0.        ,  0.        ],\n",
              "       [ 0.81724868, -0.95867683, -0.73836105, ...,  1.        ,\n",
              "         0.        ,  0.        ]])"
            ]
          },
          "metadata": {},
          "execution_count": 42
        }
      ]
    },
    {
      "cell_type": "markdown",
      "source": [
        "# Part 6"
      ],
      "metadata": {
        "id": "ZseiDg8IvpEQ"
      }
    },
    {
      "cell_type": "code",
      "source": [
        "# make linear regression model\n",
        "from sklearn.linear_model import LinearRegression\n",
        "reg = LinearRegression()\n",
        "\n",
        "# fitting training data\n",
        "reg.fit(X_train_processed, y_train)\n",
        "\n",
        "# getting R^2\n",
        "regTrainScore = reg.score(X_train_processed, y_train)\n",
        "regTestScore = reg.score(X_test_processed, y_test)\n",
        "print('R^2 for Training:', regTrainScore)\n",
        "print('R^2 for Testing:', regTestScore)"
      ],
      "metadata": {
        "id": "Mk5X_w0UvrMS",
        "outputId": "a57b1dac-c097-45cc-b594-c334841915fa",
        "colab": {
          "base_uri": "https://localhost:8080/"
        }
      },
      "execution_count": 43,
      "outputs": [
        {
          "output_type": "stream",
          "name": "stdout",
          "text": [
            "R^2 for Training: 0.6716129516504621\n",
            "R^2 for Testing: -4.1044486926788255e+18\n"
          ]
        }
      ]
    },
    {
      "cell_type": "code",
      "source": [
        "from sklearn.metrics import mean_squared_error\n",
        "\n",
        "# getting predictions\n",
        "trainPreds = reg.predict(X_train_processed)\n",
        "testPreds = reg.predict(X_test_processed)\n",
        "\n",
        "mseTrain = mean_squared_error(y_train, trainPreds)\n",
        "mseTest = mean_squared_error(y_test, testPreds)\n",
        "\n",
        "# getting rmse values\n",
        "rmseTrain = np.sqrt(mean_squared_error(y_train, trainPreds))\n",
        "rmseTest = np.sqrt(mseTest)\n",
        "print('RMSE for Training:', rmseTrain)\n",
        "print('RMSE for Testing:', rmseTest)"
      ],
      "metadata": {
        "id": "EB47roSsv3Ky",
        "outputId": "fb8b4368-07c6-4beb-ec7e-dca5a9530756",
        "colab": {
          "base_uri": "https://localhost:8080/"
        }
      },
      "execution_count": 44,
      "outputs": [
        {
          "output_type": "stream",
          "name": "stdout",
          "text": [
            "RMSE for Training: 985.822967642101\n",
            "RMSE for Testing: 3365127147979.4927\n"
          ]
        }
      ]
    },
    {
      "cell_type": "code",
      "source": [
        "# make regression tree model\n",
        "from sklearn.tree import DecisionTreeRegressor\n",
        "decTree = DecisionTreeRegressor()\n",
        "\n",
        "# fit model\n",
        "decTree.fit(X_train_processed, y_train)\n",
        "\n",
        "# getting R^2\n",
        "dtTrainScore = decTree.score(X_train_processed, y_train)\n",
        "dtTestScore = decTree.score(X_test_processed, y_test)\n",
        "print('R^2 for Training:', dtTrainScore)\n",
        "print('R^2 for Testing:', dtTestScore)"
      ],
      "metadata": {
        "id": "b2rRn9HFv6g0",
        "outputId": "26188186-d7ca-493d-b717-608976805a47",
        "colab": {
          "base_uri": "https://localhost:8080/"
        }
      },
      "execution_count": 45,
      "outputs": [
        {
          "output_type": "stream",
          "name": "stdout",
          "text": [
            "R^2 for Training: 1.0\n",
            "R^2 for Testing: 0.2209913348097079\n"
          ]
        }
      ]
    },
    {
      "cell_type": "code",
      "source": [
        "# getting predictions\n",
        "trainPreds2 = decTree.predict(X_train_processed)\n",
        "testPreds2 = decTree.predict(X_test_processed)\n",
        "\n",
        "mseTrain2 = mean_squared_error(y_train, trainPreds2)\n",
        "mseTest2 = mean_squared_error(y_test, testPreds2)\n",
        "\n",
        "# getting rmse values\n",
        "rmseTrain2 = np.sqrt(mean_squared_error(y_train, trainPreds2))\n",
        "rmseTest2 = np.sqrt(mseTest2)\n",
        "print('RMSE for Training:', rmseTrain2)\n",
        "print('RMSE for Testing:', rmseTest2)"
      ],
      "metadata": {
        "id": "uczWL-Jkv8fQ",
        "outputId": "8a9c5ebe-9da7-41ee-db11-8332e54a8353",
        "colab": {
          "base_uri": "https://localhost:8080/"
        }
      },
      "execution_count": 46,
      "outputs": [
        {
          "output_type": "stream",
          "name": "stdout",
          "text": [
            "RMSE for Training: 4.925864104892086e-15\n",
            "RMSE for Testing: 1466.0379307045894\n"
          ]
        }
      ]
    },
    {
      "cell_type": "code",
      "source": [
        "# determining the default parameter's depth\n",
        "decTree.get_depth()"
      ],
      "metadata": {
        "id": "9Ou_gjxrv-oA",
        "outputId": "58217e3c-5f05-4a0c-cb1b-5e8ba60ecfed",
        "colab": {
          "base_uri": "https://localhost:8080/"
        }
      },
      "execution_count": 47,
      "outputs": [
        {
          "output_type": "execute_result",
          "data": {
            "text/plain": [
              "60"
            ]
          },
          "metadata": {},
          "execution_count": 47
        }
      ]
    },
    {
      "cell_type": "code",
      "source": [
        "# Determining best max_depth for the model. \n",
        "maxDepthRange = list(range(2, 60)) # will try every value between 2 and 60 since 60 was the default's depth\n",
        "# List to store the score for each value of max_depth:\n",
        "r2 = []\n",
        "for depth in maxDepthRange:\n",
        "    decTree = DecisionTreeRegressor(max_depth=depth, \n",
        "                             random_state=42)\n",
        "    decTree.fit(X_train_processed, y_train)\n",
        "    score = decTree.score(X_test_processed, y_test)\n",
        "    r2.append(score)\n",
        "\n",
        "plt.figure(figsize=(20,5))\n",
        "plt.plot(maxDepthRange, r2)\n",
        "plt.xticks(list(range(2,60)))\n",
        "plt.grid(visible=True, axis='both')\n",
        "plt.xlabel('max_depth')\n",
        "plt.ylabel('R2');\n",
        "# best max_depth = 5"
      ],
      "metadata": {
        "id": "BHrz6UViwD9n",
        "outputId": "03f95ca6-e4e0-4ce1-a73b-4b9e7b1cc6ad",
        "colab": {
          "base_uri": "https://localhost:8080/",
          "height": 312
        }
      },
      "execution_count": 48,
      "outputs": [
        {
          "output_type": "display_data",
          "data": {
            "text/plain": [
              "<Figure size 1440x360 with 1 Axes>"
            ],
            "image/png": "[encoded data removed]"
          },
          "metadata": {
            "needs_background": "light"
          }
        }
      ]
    },
    {
      "cell_type": "code",
      "source": [
        "# Previously, decision tree was overfitting on the training data (r^2 was 1)\n",
        "#so I'm going to remake regression tree model w/max_depth=5\n",
        "from sklearn.tree import DecisionTreeRegressor\n",
        "decTree = DecisionTreeRegressor(max_depth=5)\n",
        "\n",
        "# fit model\n",
        "decTree.fit(X_train_processed, y_train)\n",
        "\n",
        "# getting R^2\n",
        "dtTrainScore = decTree.score(X_train_processed, y_train)\n",
        "dtTestScore = decTree.score(X_test_processed, y_test)\n",
        "print('R^2 for Training:', dtTrainScore)\n",
        "print('R^2 for Testing:', dtTestScore)\n",
        "\n",
        "# getting predictions\n",
        "trainPreds2 = decTree.predict(X_train_processed)\n",
        "testPreds2 = decTree.predict(X_test_processed)\n",
        "\n",
        "mseTrain2 = mean_squared_error(y_train, trainPreds2)\n",
        "mseTest2 = mean_squared_error(y_test, testPreds2)\n",
        "\n",
        "# getting rmse values\n",
        "rmseTrain2 = np.sqrt(mean_squared_error(y_train, trainPreds2))\n",
        "rmseTest2 = np.sqrt(mseTest2)\n",
        "print('RMSE for Training:', rmseTrain2)\n",
        "print('RMSE for Testing:', rmseTest2)"
      ],
      "metadata": {
        "id": "vf_HywWuwISH",
        "outputId": "7e1baa2a-dd8e-4c41-be88-62960d42d640",
        "colab": {
          "base_uri": "https://localhost:8080/"
        }
      },
      "execution_count": 49,
      "outputs": [
        {
          "output_type": "stream",
          "name": "stdout",
          "text": [
            "R^2 for Training: 0.6042066848171654\n",
            "R^2 for Testing: 0.5960564372160062\n",
            "RMSE for Training: 1082.281287111312\n",
            "RMSE for Testing: 1055.6851402178304\n"
          ]
        }
      ]
    },
    {
      "cell_type": "markdown",
      "source": [
        "Both the R^2 and RMSE drastically improved after adjusting the max_depth."
      ],
      "metadata": {
        "id": "Pl3sKIIpwP-S"
      }
    },
    {
      "cell_type": "code",
      "source": [
        "\"\"\"\n",
        "My recommendation is to use the decision tree model. It has better R^2\n",
        "and RMSE values than the linear regression model. Additionally, the decision tree's\n",
        "R^2 and RMSE values are relatively similar for the training and testing data, which\n",
        "likely indicates that the model is not overfit.\n",
        "\"\"\" "
      ],
      "metadata": {
        "id": "cFOJ5pDjwQtj",
        "outputId": "c840c917-6155-4f9a-c088-8c9103d9d4b2",
        "colab": {
          "base_uri": "https://localhost:8080/",
          "height": 71
        }
      },
      "execution_count": 50,
      "outputs": [
        {
          "output_type": "execute_result",
          "data": {
            "text/plain": [
              "\"\\nMy recommendation is to use the decision tree model. It has better R^2\\nand RMSE values than the linear regression model. Additionally, the decision tree's\\nR^2 and RMSE values are relatively similar for the training and testing data, which\\nlikely indicates that the model is not overfit.\\n\""
            ],
            "application/vnd.google.colaboratory.intrinsic+json": {
              "type": "string"
            }
          },
          "metadata": {},
          "execution_count": 50
        }
      ]
    }
  ]
}